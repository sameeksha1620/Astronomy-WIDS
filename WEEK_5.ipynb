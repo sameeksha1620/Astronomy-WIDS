{
  "nbformat": 4,
  "nbformat_minor": 0,
  "metadata": {
    "colab": {
      "name": "WEEK 5.ipynb",
      "provenance": []
    },
    "kernelspec": {
      "name": "python3",
      "display_name": "Python 3"
    },
    "language_info": {
      "name": "python"
    }
  },
  "cells": [
    {
      "cell_type": "markdown",
      "source": [
        "# **Regression Classifier**"
      ],
      "metadata": {
        "id": "QCyzE8wsTGhk"
      }
    },
    {
      "cell_type": "markdown",
      "source": [
        "# Decision Trees"
      ],
      "metadata": {
        "id": "vJqOIofRTUBC"
      }
    },
    {
      "cell_type": "code",
      "execution_count": 6,
      "metadata": {
        "id": "CnuP-rwpTE8F"
      },
      "outputs": [],
      "source": [
        "import numpy as np\n",
        "\n",
        "def get_features_targets(data):\n",
        "  features= np.zeros(shape=(len(data),4))\n",
        "  features[:,0]=data['u']-data['g']\n",
        "  features[:,1]=data['g']-data['r']\n",
        "  features[:,2]=data['r']-data['i']\n",
        "  features[:,3]=data['i']-data['z']\n",
        "  targets= data['redshift']\n",
        "  return features, targets\n",
        "\n",
        "  data = np.load('sdss_galaxy_colors.npy')\n",
        "\n",
        "  features, targets = get_features_targets(data)\n",
        "    \n",
        "  print(features[:2])\n",
        "  print(targets[:2])\n"
      ]
    },
    {
      "cell_type": "code",
      "source": [
        "from sklearn.tree import DecisionTreeRegressor\n",
        "\n",
        "# copy in your get_features_targets function here\n",
        "def get_features_targets(data):\n",
        "  features = np.zeros(shape=(len(data), 4))\n",
        "  features[:, 0] = data['u'] - data['g']\n",
        "  features[:, 1] = data['g'] - data['r']\n",
        "  features[:, 2] = data['r'] - data['i']\n",
        "  features[:, 3] = data['i'] - data['z']\n",
        "  targets = data['redshift']\n",
        "  return features, targets\n",
        "\n",
        "data = np.load('sdss_galaxy_colors.npy')\n",
        "features, targets = get_features_targets(data)\n",
        "\n",
        "dtr = DecisionTreeRegressor()\n",
        "\n",
        "dtr.fit(features, targets)\n",
        "\n",
        "predictions = dtr.predict(features)\n",
        "s\n",
        "print(predictions[:4])"
      ],
      "metadata": {
        "colab": {
          "base_uri": "https://localhost:8080/",
          "height": 357
        },
        "id": "xrdV7FVBVNWO",
        "outputId": "63ffe519-0564-4fb2-89c2-bcab85a133bb"
      },
      "execution_count": 37,
      "outputs": [
        {
          "output_type": "error",
          "ename": "FileNotFoundError",
          "evalue": "ignored",
          "traceback": [
            "\u001b[0;31m---------------------------------------------------------------------------\u001b[0m",
            "\u001b[0;31mFileNotFoundError\u001b[0m                         Traceback (most recent call last)",
            "\u001b[0;32m<ipython-input-37-729406ae7c20>\u001b[0m in \u001b[0;36m<module>\u001b[0;34m()\u001b[0m\n\u001b[1;32m     11\u001b[0m   \u001b[0;32mreturn\u001b[0m \u001b[0mfeatures\u001b[0m\u001b[0;34m,\u001b[0m \u001b[0mtargets\u001b[0m\u001b[0;34m\u001b[0m\u001b[0;34m\u001b[0m\u001b[0m\n\u001b[1;32m     12\u001b[0m \u001b[0;34m\u001b[0m\u001b[0m\n\u001b[0;32m---> 13\u001b[0;31m \u001b[0mdata\u001b[0m \u001b[0;34m=\u001b[0m \u001b[0mnp\u001b[0m\u001b[0;34m.\u001b[0m\u001b[0mload\u001b[0m\u001b[0;34m(\u001b[0m\u001b[0;34m'sdss_galaxy_colors.npy'\u001b[0m\u001b[0;34m)\u001b[0m\u001b[0;34m\u001b[0m\u001b[0;34m\u001b[0m\u001b[0m\n\u001b[0m\u001b[1;32m     14\u001b[0m \u001b[0mfeatures\u001b[0m\u001b[0;34m,\u001b[0m \u001b[0mtargets\u001b[0m \u001b[0;34m=\u001b[0m \u001b[0mget_features_targets\u001b[0m\u001b[0;34m(\u001b[0m\u001b[0mdata\u001b[0m\u001b[0;34m)\u001b[0m\u001b[0;34m\u001b[0m\u001b[0;34m\u001b[0m\u001b[0m\n\u001b[1;32m     15\u001b[0m \u001b[0;34m\u001b[0m\u001b[0m\n",
            "\u001b[0;32m/usr/local/lib/python3.7/dist-packages/numpy/lib/npyio.py\u001b[0m in \u001b[0;36mload\u001b[0;34m(file, mmap_mode, allow_pickle, fix_imports, encoding)\u001b[0m\n\u001b[1;32m    414\u001b[0m             \u001b[0mown_fid\u001b[0m \u001b[0;34m=\u001b[0m \u001b[0;32mFalse\u001b[0m\u001b[0;34m\u001b[0m\u001b[0;34m\u001b[0m\u001b[0m\n\u001b[1;32m    415\u001b[0m         \u001b[0;32melse\u001b[0m\u001b[0;34m:\u001b[0m\u001b[0;34m\u001b[0m\u001b[0;34m\u001b[0m\u001b[0m\n\u001b[0;32m--> 416\u001b[0;31m             \u001b[0mfid\u001b[0m \u001b[0;34m=\u001b[0m \u001b[0mstack\u001b[0m\u001b[0;34m.\u001b[0m\u001b[0menter_context\u001b[0m\u001b[0;34m(\u001b[0m\u001b[0mopen\u001b[0m\u001b[0;34m(\u001b[0m\u001b[0mos_fspath\u001b[0m\u001b[0;34m(\u001b[0m\u001b[0mfile\u001b[0m\u001b[0;34m)\u001b[0m\u001b[0;34m,\u001b[0m \u001b[0;34m\"rb\"\u001b[0m\u001b[0;34m)\u001b[0m\u001b[0;34m)\u001b[0m\u001b[0;34m\u001b[0m\u001b[0;34m\u001b[0m\u001b[0m\n\u001b[0m\u001b[1;32m    417\u001b[0m             \u001b[0mown_fid\u001b[0m \u001b[0;34m=\u001b[0m \u001b[0;32mTrue\u001b[0m\u001b[0;34m\u001b[0m\u001b[0;34m\u001b[0m\u001b[0m\n\u001b[1;32m    418\u001b[0m \u001b[0;34m\u001b[0m\u001b[0m\n",
            "\u001b[0;31mFileNotFoundError\u001b[0m: [Errno 2] No such file or directory: 'sdss_galaxy_colors.npy'"
          ]
        }
      ]
    },
    {
      "cell_type": "markdown",
      "source": [
        "# Validating Model"
      ],
      "metadata": {
        "id": "pOtTguO_VnGt"
      }
    },
    {
      "cell_type": "code",
      "source": [
        "def median_diff(predicted, actual):\n",
        "  return np.median(np.abs(predicted[:] - actual[:]))\n",
        "\n",
        "  targets = np.load('targets.npy')\n",
        "  predictions = np.load('predictions.npy')\n",
        "\n",
        "\n",
        "  print(\"Median difference: {:0.3f}\".format(diff))"
      ],
      "metadata": {
        "id": "T8W5RLUlVY3X"
      },
      "execution_count": 11,
      "outputs": []
    },
    {
      "cell_type": "code",
      "source": [
        "def get_features_targets(data):\n",
        "  features = np.zeros((data.shape[0], 4))\n",
        "  features[:, 0] = data['u'] - data['g']\n",
        "  features[:, 1] = data['g'] - data['r']\n",
        "  features[:, 2] = data['r'] - data['i']\n",
        "  features[:, 3] = data['i'] - data['z']\n",
        "  targets = data['redshift']\n",
        "  return features, targets\n",
        "\n",
        "def median_diff(predicted, actual):\n",
        "  return np.median(np.abs(predicted - actual))\n",
        "\n",
        "def validate_model(model, features, targets):\n",
        "  split = 2*features.shape[0]//3\n",
        "  train_features, test_features = features[:split], features[split:]\n",
        "  train_targets, test_targets = targets[:split], targets[split:]\n",
        "\n",
        "  model.fit(train_features, train_targets)\n",
        "\n",
        "  predictions = model.predict(test_features)  \n",
        "\n",
        "  return median_diff(test_targets, predictions)\n",
        "\n",
        "  data = np.load('sdss_galaxy_colors.npy')\n",
        "  features, targets = get_features_targets(data)\n",
        "\n",
        "  dtr = DecisionTreeRegressor()\n",
        "\n",
        "  diff = validate_model(dtr, features, targets)\n",
        "  print('Median difference: {:f}'.format(diff))"
      ],
      "metadata": {
        "id": "VVzvw4ptVg1x"
      },
      "execution_count": 12,
      "outputs": []
    },
    {
      "cell_type": "markdown",
      "source": [
        "# Plotting"
      ],
      "metadata": {
        "id": "J_zkC52WV9dg"
      }
    },
    {
      "cell_type": "code",
      "source": [
        "from matplotlib import pyplot as plt\n",
        "data = np.load('sdss_galaxy_colors_limz.npy')\n",
        "\n",
        "cmap = plt.get_cmap('YlOrRd')\n",
        "\n",
        "u_g = data['u'] - data['g']\n",
        "r_i = data['r'] - data['i']\n",
        "\n",
        "redshift = data['redshift']\n",
        "\n",
        "plot = plt.scatter(u_g, r_i, s=0.5, lw=0, c=redshift, cmap=cmap)\n",
        "\n",
        "cb = plt.colorbar(plot)\n",
        "cb.set_label('Redshift')\n",
        "\n",
        "plt.xlabel('Colour index  u-g')\n",
        "plt.ylabel('Colour index  r-i')\n",
        "plt.title('Redshift (colour) u-g versus r-i')\n",
        "\n",
        "plt.xlim(-0.5, 2.5)\n",
        "plt.ylim(-0.5, 1)\n",
        "\n",
        "plt.show()"
      ],
      "metadata": {
        "colab": {
          "base_uri": "https://localhost:8080/",
          "height": 357
        },
        "id": "2O1ChXwZV6Fs",
        "outputId": "d6aafcba-8845-49a3-b8dd-558b94f5aa53"
      },
      "execution_count": 36,
      "outputs": [
        {
          "output_type": "error",
          "ename": "FileNotFoundError",
          "evalue": "ignored",
          "traceback": [
            "\u001b[0;31m---------------------------------------------------------------------------\u001b[0m",
            "\u001b[0;31mFileNotFoundError\u001b[0m                         Traceback (most recent call last)",
            "\u001b[0;32m<ipython-input-36-a25da2cce367>\u001b[0m in \u001b[0;36m<module>\u001b[0;34m()\u001b[0m\n\u001b[1;32m      1\u001b[0m \u001b[0;32mfrom\u001b[0m \u001b[0mmatplotlib\u001b[0m \u001b[0;32mimport\u001b[0m \u001b[0mpyplot\u001b[0m \u001b[0;32mas\u001b[0m \u001b[0mplt\u001b[0m\u001b[0;34m\u001b[0m\u001b[0;34m\u001b[0m\u001b[0m\n\u001b[0;32m----> 2\u001b[0;31m \u001b[0mdata\u001b[0m \u001b[0;34m=\u001b[0m \u001b[0mnp\u001b[0m\u001b[0;34m.\u001b[0m\u001b[0mload\u001b[0m\u001b[0;34m(\u001b[0m\u001b[0;34m'sdss_galaxy_colors_limz.npy'\u001b[0m\u001b[0;34m)\u001b[0m\u001b[0;34m\u001b[0m\u001b[0;34m\u001b[0m\u001b[0m\n\u001b[0m\u001b[1;32m      3\u001b[0m \u001b[0;34m\u001b[0m\u001b[0m\n\u001b[1;32m      4\u001b[0m \u001b[0mcmap\u001b[0m \u001b[0;34m=\u001b[0m \u001b[0mplt\u001b[0m\u001b[0;34m.\u001b[0m\u001b[0mget_cmap\u001b[0m\u001b[0;34m(\u001b[0m\u001b[0;34m'YlOrRd'\u001b[0m\u001b[0;34m)\u001b[0m\u001b[0;34m\u001b[0m\u001b[0;34m\u001b[0m\u001b[0m\n\u001b[1;32m      5\u001b[0m \u001b[0;34m\u001b[0m\u001b[0m\n",
            "\u001b[0;32m/usr/local/lib/python3.7/dist-packages/numpy/lib/npyio.py\u001b[0m in \u001b[0;36mload\u001b[0;34m(file, mmap_mode, allow_pickle, fix_imports, encoding)\u001b[0m\n\u001b[1;32m    414\u001b[0m             \u001b[0mown_fid\u001b[0m \u001b[0;34m=\u001b[0m \u001b[0;32mFalse\u001b[0m\u001b[0;34m\u001b[0m\u001b[0;34m\u001b[0m\u001b[0m\n\u001b[1;32m    415\u001b[0m         \u001b[0;32melse\u001b[0m\u001b[0;34m:\u001b[0m\u001b[0;34m\u001b[0m\u001b[0;34m\u001b[0m\u001b[0m\n\u001b[0;32m--> 416\u001b[0;31m             \u001b[0mfid\u001b[0m \u001b[0;34m=\u001b[0m \u001b[0mstack\u001b[0m\u001b[0;34m.\u001b[0m\u001b[0menter_context\u001b[0m\u001b[0;34m(\u001b[0m\u001b[0mopen\u001b[0m\u001b[0;34m(\u001b[0m\u001b[0mos_fspath\u001b[0m\u001b[0;34m(\u001b[0m\u001b[0mfile\u001b[0m\u001b[0;34m)\u001b[0m\u001b[0;34m,\u001b[0m \u001b[0;34m\"rb\"\u001b[0m\u001b[0;34m)\u001b[0m\u001b[0;34m)\u001b[0m\u001b[0;34m\u001b[0m\u001b[0;34m\u001b[0m\u001b[0m\n\u001b[0m\u001b[1;32m    417\u001b[0m             \u001b[0mown_fid\u001b[0m \u001b[0;34m=\u001b[0m \u001b[0;32mTrue\u001b[0m\u001b[0;34m\u001b[0m\u001b[0;34m\u001b[0m\u001b[0m\n\u001b[1;32m    418\u001b[0m \u001b[0;34m\u001b[0m\u001b[0m\n",
            "\u001b[0;31mFileNotFoundError\u001b[0m: [Errno 2] No such file or directory: 'sdss_galaxy_colors_limz.npy'"
          ]
        }
      ]
    },
    {
      "cell_type": "markdown",
      "source": [
        "# Overfitting"
      ],
      "metadata": {
        "id": "hneXP7UHW4GQ"
      }
    },
    {
      "cell_type": "code",
      "source": [
        "\n",
        "def accuracy_by_treedepth(features, targets, depths):\n",
        "\n",
        "  split = features.shape[0]//2\n",
        "  train_features, test_features = features[:split], features[split:]\n",
        "  train_targets, test_targets = targets[:split], targets[split:]\n",
        "\n",
        "  train_diffs = []\n",
        "  test_diffs = []\n",
        "\n",
        "  for depth in depths:\n",
        "    dtr = DecisionTreeRegressor(max_depth=depth)\n",
        "    dtr.fit(train_features, train_targets)\n",
        "\n",
        "    predictions = dtr.predict(train_features)\n",
        "    train_diffs.append(median_diff(train_targets, predictions))\n",
        "\n",
        "    predictions = dtr.predict(test_features)\n",
        "    test_diffs.append(median_diff(test_targets, predictions))\n",
        "        \n",
        "  return train_diffs, test_diffs    \n",
        "\n",
        "  data = np.load('sdss_galaxy_colors.npy')\n",
        "  features, targets = get_features_targets(data)\n",
        "\n",
        "  tree_depths = [i for i in range(1, 36, 2)]\n",
        "\n",
        "  train_med_diffs, test_med_diffs = accuracy_by_treedepth(features, targets, tree_depths)\n",
        "  print(\"Depth with lowest median difference : {}\".format(tree_depths[test_med_diffs.index(min(test_med_diffs))]))\n",
        "    \n",
        "\n",
        "  train_plot = plt.plot(tree_depths, train_med_diffs, label='Training set')\n",
        "  test_plot = plt.plot(tree_depths, test_med_diffs, label='Validation set')\n",
        "  plt.xlabel(\"Maximum Tree Depth\")\n",
        "  plt.ylabel(\"Median of Differences\")\n",
        "  plt.legend()\n",
        "  plt.show()"
      ],
      "metadata": {
        "id": "YGLlhIsfWTrS"
      },
      "execution_count": 22,
      "outputs": []
    },
    {
      "cell_type": "markdown",
      "source": [
        "# Cross Validation"
      ],
      "metadata": {
        "id": "8KxPli_NXktG"
      }
    },
    {
      "cell_type": "code",
      "source": [
        "def cross_validate_model(model, features, targets, k):\n",
        "  kf = KFold(n_splits=k, shuffle=True)\n",
        "\n",
        "  diffs = []\n",
        "\n",
        "  for train_indices, test_indices in kf.split(features):\n",
        "    train_features, test_features = features[train_indices], features[test_indices]\n",
        "    train_targets, test_targets = targets[train_indices], targets[test_indices]\n",
        "\n",
        "    model.fit(train_features, train_targets)\n",
        "\n",
        "    predictions = model.predict(test_features)\n",
        "\n",
        "    diffs.append(median_diff(predictions, test_targets))\n",
        " \n",
        "  return diffs\n",
        "\n",
        "  data = np.load('./sdss_galaxy_colors.npy')\n",
        "  features, targets = get_features_targets(data)\n",
        "\n",
        "  dtr = DecisionTreeRegressor(max_depth=19)\n",
        "\n",
        "  diffs = cross_validate_model(dtr, features, targets, 10)\n",
        "\n",
        "  print('Differences: {}'.format(', '.join(['{:.3f}'.format(val) for val in diffs])))\n",
        "  print('Mean difference: {:.3f}'.format(np.mean(diffs)))"
      ],
      "metadata": {
        "id": "24aMyEXvXZyk"
      },
      "execution_count": 26,
      "outputs": []
    },
    {
      "cell_type": "code",
      "source": [
        "from sklearn.model_selection import KFold\n",
        "def cross_validate_predictions(model, features, targets, k):\n",
        "  kf = KFold(n_splits=k, shuffle=True)\n",
        "\n",
        "  all_predictions = np.zeros_like(targets)\n",
        "\n",
        "  for train_indices, test_indices in kf.split(features):\n",
        "    train_features, test_features = features[train_indices], features[test_indices]\n",
        "    train_targets, test_targets = targets[train_indices], targets[test_indices]\n",
        "    \n",
        "    model.fit(train_features, train_targets)\n",
        "        \n",
        "    predictions = model.predict(test_features)\n",
        "        \n",
        "    all_predictions[test_indices] = predictions\n",
        "\n",
        "  return all_predictions\n",
        "\n",
        "  data = np.load('./sdss_galaxy_colors.npy')\n",
        "  features, targets = get_features_targets(data)\n",
        "\n",
        "  dtr = DecisionTreeRegressor(max_depth=19)\n",
        "\n",
        "  predictions = cross_validate_predictions(dtr, features, targets, 10)\n",
        "\n",
        "  diffs = median_diff(predictions, targets)\n",
        "  print('Median difference: {:.3f}'.format(diffs))\n",
        "\n",
        "  plt.scatter(targets, predictions, s=0.4)\n",
        "  plt.xlim((0, targets.max()))\n",
        "  plt.ylim((0, predictions.max()))\n",
        "  plt.xlabel('Measured Redshift')\n",
        "  plt.ylabel('Predicted Redshift')\n",
        "  plt.show()"
      ],
      "metadata": {
        "id": "LNMf2DJ_X7ud"
      },
      "execution_count": 29,
      "outputs": []
    },
    {
      "cell_type": "code",
      "source": [
        "#QSO AND GALAXY\n",
        "\n",
        "def get_features_targets(data):\n",
        "  features = np.zeros((data.shape[0], 4))\n",
        "  features[:, 0] = data['u'] - data['g']\n",
        "  features[:, 1] = data['g'] - data['r']\n",
        "  features[:, 2] = data['r'] - data['i']\n",
        "  features[:, 3] = data['i'] - data['z']\n",
        "  targets = data['redshift']\n",
        "  return features, targets\n",
        "\n",
        "def median_diff(predicted, actual):\n",
        "  return np.median(np.abs(predicted - actual))\n",
        "\n",
        "def cross_validate_model(model, features, targets, k):\n",
        "  kf = KFold(n_splits=k, shuffle=True)\n",
        "\n",
        "  diffs = []\n",
        "  for train_indices, test_indices in kf.split(features):\n",
        "    train_features, test_features = features[train_indices], features[test_indices]\n",
        "    train_targets, test_targets = targets[train_indices], targets[test_indices]\n",
        "\n",
        "    model.fit(train_features, train_targets)\n",
        "\n",
        "    predictions = model.predict(test_features)\n",
        " \n",
        "    diffs.append(median_diff(predictions, test_targets))\n",
        "\n",
        "  return diffs\n",
        "\n",
        "def split_galaxies_qsos(data):\n",
        "  galaxies = data[data['spec_class'] == b'GALAXY']\n",
        "  qsos = data[data['spec_class'] == b'QSO']\n",
        "\n",
        "  return galaxies, qsos\n",
        "\n",
        "def cross_validate_median_diff(data):\n",
        "  features, targets = get_features_targets(data)\n",
        "  dtr = DecisionTreeRegressor(max_depth=19)\n",
        "  return np.mean(cross_validate_model(dtr, features, targets, 10))\n",
        "\n",
        "  data = np.load('./sdss_galaxy_colors.npy')\n",
        "\n",
        "  galaxies, qsos= split_galaxies_qsos(data)\n",
        "\n",
        "  galaxy_med_diff = cross_validate_median_diff(galaxies)\n",
        "  qso_med_diff = cross_validate_median_diff(qsos)\n",
        "\n",
        "  print(\"Median difference for Galaxies: {:.3f}\".format(galaxy_med_diff))\n",
        "  print(\"Median difference for QSOs: {:.3f}\".format(qso_med_diff))"
      ],
      "metadata": {
        "id": "cH8jZAl4Yyft"
      },
      "execution_count": 35,
      "outputs": []
    },
    {
      "cell_type": "code",
      "source": [
        ""
      ],
      "metadata": {
        "id": "jU8L5NoIaEjs"
      },
      "execution_count": null,
      "outputs": []
    }
  ]
}