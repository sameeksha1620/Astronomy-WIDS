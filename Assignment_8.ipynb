{
  "nbformat": 4,
  "nbformat_minor": 0,
  "metadata": {
    "colab": {
      "name": "Assignment 8.ipynb",
      "provenance": [],
      "collapsed_sections": []
    },
    "kernelspec": {
      "name": "python3",
      "display_name": "Python 3"
    },
    "language_info": {
      "name": "python"
    }
  },
  "cells": [
    {
      "cell_type": "markdown",
      "source": [
        "# **Assignment 8**"
      ],
      "metadata": {
        "id": "obJMoOY1MjKK"
      }
    },
    {
      "cell_type": "code",
      "execution_count": 1,
      "metadata": {
        "id": "qd0HHNT5Mh2l"
      },
      "outputs": [],
      "source": [
        "%matplotlib inline\n",
        "\n",
        "import numpy as np\n",
        "from astropy.io import fits\n",
        "from astropy.stats import sigma_clipped_stats\n",
        "import matplotlib.pyplot as plt\n",
        "import glob\n",
        "import os"
      ]
    },
    {
      "cell_type": "code",
      "source": [
        "curpath = os.path.abspath('.')                  \n",
        "biasFolder = os.path.join(curpath, 'bias')   "
      ],
      "metadata": {
        "id": "XkRnHM90NSpp"
      },
      "execution_count": 4,
      "outputs": []
    },
    {
      "cell_type": "code",
      "source": [
        "biasList = glob.glob(os.path.join(biasFolder,'*fits'))\n",
        "\n",
        "numBiasFiles = len(biasList)\n",
        "print('Found %d bias files'%numBiasFiles)"
      ],
      "metadata": {
        "colab": {
          "base_uri": "https://localhost:8080/"
        },
        "id": "G8q8oiWANWNR",
        "outputId": "a95057e9-5112-4290-e7da-c9900db88cd1"
      },
      "execution_count": 5,
      "outputs": [
        {
          "output_type": "stream",
          "name": "stdout",
          "text": [
            "Found 0 bias files\n"
          ]
        }
      ]
    },
    {
      "cell_type": "code",
      "source": [
        "biasImages = np.zeros((4108, 4096, numBiasFiles))\n",
        "for i in range(numBiasFiles):\n",
        "  biasImages[:,:,i] = fits.open(biasList[i])[0].data"
      ],
      "metadata": {
        "id": "53xUXm9TNb6Z"
      },
      "execution_count": 8,
      "outputs": []
    },
    {
      "cell_type": "code",
      "source": [
        "mean, median, std = sigma_clipped_stats(biasImages[:,:,0])\n",
        "\n",
        "plt.figure(figsize=(8,8))\n",
        "plt.imshow(biasImages[:,:,0], vmin = median - 3*std, vmax = median + 3*std)\n",
        "plt.colorbar()"
      ],
      "metadata": {
        "id": "HyiYi-n1NnyI"
      },
      "execution_count": null,
      "outputs": []
    },
    {
      "cell_type": "code",
      "source": [
        "masterBias = np.median(biasImages, axis=2)\n",
        "\n",
        "mean, median, std = sigma_clipped_stats(masterBias)\n",
        "\n",
        "plt.figure(figsize=(8,8))\n",
        "plt.imshow(masterBias, vmin = median - 3*std, vmax = median + 3*std)\n",
        "plt.colorbar()"
      ],
      "metadata": {
        "id": "qLxv1NzONf0o"
      },
      "execution_count": null,
      "outputs": []
    },
    {
      "cell_type": "code",
      "source": [
        "Flat = fits.open('Flat.fits')[1].data\n",
        "\n",
        "masterFlat = Flat - masterBias\n",
        "master_flat_median = np.median(masterFlat)\n",
        "masterFlat = masterFlat/master_flat_median"
      ],
      "metadata": {
        "id": "TcU_A8NuOGeG"
      },
      "execution_count": null,
      "outputs": []
    },
    {
      "cell_type": "code",
      "source": [
        "mean, median, std = sigma_clipped_stats(masterFlat)\n",
        "plt.figure(figsize=(8,8))\n",
        "plt.imshow(masterFlat, vmin = median - 3*std, vmax = median + 3*std)\n",
        "plt.colorbar()"
      ],
      "metadata": {
        "id": "3KxMnP3WOJwE"
      },
      "execution_count": null,
      "outputs": []
    },
    {
      "cell_type": "markdown",
      "source": [
        "# TASK 1"
      ],
      "metadata": {
        "id": "xQKj9WlrOsIq"
      }
    },
    {
      "cell_type": "code",
      "source": [
        "def get_background_histogram(array, min_count, max_count):\n",
        "    \"\"\"\n",
        "        array is the numpy array that contains the counts for each pixel\n",
        "        the bins for the histogram will be np.arange(min_count, max_count, 1)\n",
        "    \"\"\"\n",
        "    flattened_array = array.flatten()\n",
        "    num_pixels, bin_edges = np.histogram(flattened_array, bins=np.arange(min_count, max_count, 1))\n",
        "    bins = 0.5*(bin_edges[1:] + bin_edges[:-1])\n",
        "    return bins, num_pixels"
      ],
      "metadata": {
        "id": "D1Q2hJaOMpVg"
      },
      "execution_count": 2,
      "outputs": []
    },
    {
      "cell_type": "code",
      "source": [
        "mean, median, std = sigma_clipped_stats(masterBias)\n",
        "bins, num_pixels = get_background_histogram(masterBias,median - 5*std, median + 5*std) \n",
        "plt.figure(figsize = (10,6))\n",
        "plt.title(\"Background counts, not including cosmic ray counts, for master bias frame\")\n",
        "plt.xlabel('Counts')\n",
        "plt.ylabel('Number of Pixels')\n",
        "plt.plot(bins, num_pixels)\n",
        "plt.show()"
      ],
      "metadata": {
        "id": "qeANFBPVM8OG"
      },
      "execution_count": null,
      "outputs": []
    },
    {
      "cell_type": "code",
      "source": [
        "my_masterFlat = masterFlat*master_flat_median\n",
        "mean, median, std = sigma_clipped_stats(my_masterFlat)\n",
        "bins, num_pixels = get_background_histogram(my_masterFlat,mean-5*std,mean+5*std) \n",
        "plt.figure(figsize = (10,6))\n",
        "plt.title(\"Background counts, not including cosmic ray counts, for master flat frame\")\n",
        "plt.xlabel('Counts')\n",
        "plt.ylabel('Number of Pixels')\n",
        "plt.plot(bins, num_pixels)\n",
        "plt.show()"
      ],
      "metadata": {
        "id": "40gQ_yBZOZHA"
      },
      "execution_count": null,
      "outputs": []
    },
    {
      "cell_type": "code",
      "source": [
        "mean, median, std = sigma_clipped_stats(M3_data)\n",
        "vmin = median - 5*std\n",
        "vmax = median + 5*std\n",
        "bins, num_pixels = get_background_histogram(M3_data[3100:3275, 2300:2450],vmin,vmax) #background counts, not including cosmic ray counts\n",
        "plt.figure(figsize = (10,6))\n",
        "plt.title(\"Background counts, not including cosmic ray counts\")\n",
        "plt.xlabel('Counts')\n",
        "plt.ylabel('Number of Pixels')\n",
        "plt.plot(bins, num_pixels)\n",
        "plt.show()"
      ],
      "metadata": {
        "id": "F53K3UG9OiZV"
      },
      "execution_count": null,
      "outputs": []
    }
  ]
}