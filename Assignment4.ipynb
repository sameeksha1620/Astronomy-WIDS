{
  "nbformat": 4,
  "nbformat_minor": 0,
  "metadata": {
    "colab": {
      "name": "Assignment4.ipynb",
      "provenance": [],
      "collapsed_sections": []
    },
    "kernelspec": {
      "name": "python3",
      "display_name": "Python 3"
    },
    "language_info": {
      "name": "python"
    }
  },
  "cells": [
    {
      "cell_type": "code",
      "execution_count": null,
      "metadata": {
        "id": "VrMo-nH3i9T5"
      },
      "outputs": [],
      "source": [
        "import numpy as np\n",
        "import matplotlib.pyplot as plt\n"
      ]
    },
    {
      "cell_type": "code",
      "source": [
        "url='https://raw.githubusercontent.com/krittikaiitb/tutorials/master/Tutorial_04/GW_data_file.csv'\n",
        "data, freq, time = np.loadtxt(url,delimiter=',')"
      ],
      "metadata": {
        "id": "IeG8VWt9nOyG"
      },
      "execution_count": null,
      "outputs": []
    },
    {
      "cell_type": "code",
      "source": [
        "plt.figure(figsize=(15,3))\n",
        "plt.plot(time,data)\n",
        "plt.xlabel('Time(s)')\n",
        "plt.ylabel('Normalized Strain')\n",
        "plt.grid()\n",
        "plt.show()"
      ],
      "metadata": {
        "id": "CTxrZOoGnlQM"
      },
      "execution_count": null,
      "outputs": []
    },
    {
      "cell_type": "code",
      "source": [
        "plt.plot(time,freq)\n",
        "plt.xlabel('Time(s)')\n",
        "plt.ylabel('Frequency(Hz)')\n",
        "plt.grid()\n",
        "plt.show()"
      ],
      "metadata": {
        "colab": {
          "base_uri": "https://localhost:8080/",
          "height": 279
        },
        "id": "GMxM1KT0uuy9",
        "outputId": "3fa1de5e-a024-48b9-b47b-5e954dc1ec3c"
      },
      "execution_count": null,
      "outputs": [
        {
          "output_type": "display_data",
          "data": {
            "image/png": "[encoded data removed]",
            "text/plain": [
              "<Figure size 432x288 with 1 Axes>"
            ]
          },
          "metadata": {
            "needs_background": "light"
          }
        }
      ]
    },
    {
      "cell_type": "code",
      "source": [
        "zero_indices=[]\n",
        "\n",
        "for i in range(len(data)-1):\n",
        "    if data[i]==0 and data[i+1]!=0:\n",
        "        zero_indices.append(i)\n",
        "    elif (data[i]>0 and data[i+1]<0) or (data[i]<0 and data[i+1]>0):\n",
        "        zero_indices.append(i)\n",
        "    elif data[i]==0 and data[i+1]==0:\n",
        "        zero_indices.append(i)\n",
        "        i=i+1"
      ],
      "metadata": {
        "id": "-M-VlVG8wbzB"
      },
      "execution_count": null,
      "outputs": []
    },
    {
      "cell_type": "code",
      "source": [
        "plt.scatter(time[zero_indices],freq[zero_indices],s=10, color='g', marker='^')\n",
        "plt.ylabel('Frequency(Hz)')\n",
        "plt.grid()\n",
        "plt.show()"
      ],
      "metadata": {
        "id": "HigzqHsvxnoG"
      },
      "execution_count": null,
      "outputs": []
    },
    {
      "cell_type": "code",
      "source": [
        ""
      ],
      "metadata": {
        "id": "jBi9YAYwx2xV"
      },
      "execution_count": null,
      "outputs": []
    },
    {
      "cell_type": "code",
      "source": [
        ""
      ],
      "metadata": {
        "id": "Tj1V7KwRySbN"
      },
      "execution_count": null,
      "outputs": []
    }
  ]
}