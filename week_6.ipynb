{
  "nbformat": 4,
  "nbformat_minor": 0,
  "metadata": {
    "colab": {
      "name": "week 6.ipynb",
      "provenance": []
    },
    "kernelspec": {
      "name": "python3",
      "display_name": "Python 3"
    },
    "language_info": {
      "name": "python"
    }
  },
  "cells": [
    {
      "cell_type": "markdown",
      "source": [
        "# **ML Classifier**"
      ],
      "metadata": {
        "id": "PVvELgVDaktA"
      }
    },
    {
      "cell_type": "code",
      "execution_count": null,
      "metadata": {
        "id": "MjckJ0OiadYC"
      },
      "outputs": [],
      "source": [
        "import numpy as np\n",
        "\n",
        "def splitdata_train_test(data, fraction_training)\n",
        "  np.random.shuffle(data)\n",
        "  split_index = int(fraction_training*len(data))\n",
        "  return data[:split_index], data[split_index:]\n",
        "\n",
        "  data = np.load('galaxy_catalogue.npy')\n",
        "  fraction_training = 0.7\n",
        "\n",
        "  training, testing = splitdata_train_test(data, fraction_training)\n",
        "\n",
        "  print('Number data galaxies:', len(data))\n",
        "  print('Train fraction:', fraction_training)\n",
        "  print('Number of galaxies in training set:', len(training))\n",
        "  print('Number of galaxies in testing set:', len(testing))"
      ]
    },
    {
      "cell_type": "code",
      "source": [
        "def generate_features_targets(data):\n",
        "  targets = data['class']\n",
        "\n",
        "  features = np.empty(shape=(len(data), 13))\n",
        "  features[:, 0] = data['u-g']\n",
        "  features[:, 1] = data['g-r']\n",
        "  features[:, 2] = data['r-i']\n",
        "  features[:, 3] = data['i-z']\n",
        "  features[:, 4] = data['ecc']\n",
        "  features[:, 5] = data['m4_u']\n",
        "  features[:, 6] = data['m4_g']\n",
        "  features[:, 7] = data['m4_r']\n",
        "  features[:, 8] = data['m4_i']\n",
        "  features[:, 9] = data['m4_z']\n",
        "\n",
        "  features[:, 10] = data['petroR50_u']/data['petroR90_u']\n",
        "  features[:, 11] = data['petroR50_r']/data['petroR90_r']\n",
        "  features[:, 12] = data['petroR50_z']/data['petroR90_z']\n",
        "\n",
        "  return features, targets\n",
        "\n",
        "  data = np.load('galaxy_catalogue.npy')\n",
        "\n",
        "  features, targets = generate_features_targets(data)\n",
        " \n",
        "  print(\"Features shape:\", features.shape)\n",
        "  print(\"Targets shape:\", targets.shape)"
      ],
      "metadata": {
        "id": "4VNFK9D3a2-4"
      },
      "execution_count": 3,
      "outputs": []
    },
    {
      "cell_type": "markdown",
      "source": [
        "# Decision Tree"
      ],
      "metadata": {
        "id": "DeNtFlV4dInP"
      }
    },
    {
      "cell_type": "code",
      "source": [
        "from sklearn.tree import DecisionTreeClassifier\n",
        "def dtc_predict_actual(data):\n",
        "  train, test = splitdata_train_test(data, 0.7)\n",
        "\n",
        "  train_features, train_targets = generate_features_targets(train)\n",
        "  test_features, test_targets = generate_features_targets(test)\n",
        "\n",
        "  dtc = DecisionTreeClassifier()\n",
        "\n",
        "  dtc.fit(train_features, train_targets)\n",
        "  \n",
        "  predictions = dtc.predict(test_features)\n",
        "  return predictions, test_targets\n",
        "\n",
        "\n",
        "  data = np.load('galaxy_catalogue.npy')\n",
        "    \n",
        "  predicted_class, actual_class = dtc_predict_actual(data)\n",
        "\n",
        "  print(\"Some initial results...\\n   predicted,  actual\")\n",
        "  for i in range(10):\n",
        "    print(\"{}. {}, {}\".format(i, predicted_class[i], actual_class[i]))\n",
        " "
      ],
      "metadata": {
        "id": "wpYKBFlNbZjS"
      },
      "execution_count": 8,
      "outputs": []
    },
    {
      "cell_type": "markdown",
      "source": [
        "# Accuracy"
      ],
      "metadata": {
        "id": "s4vRgRfbdAKJ"
      }
    },
    {
      "cell_type": "code",
      "source": [
        "from sklearn.metrics import confusion_matrix\n",
        "from sklearn.model_selection import cross_val_predict\n",
        "from sklearn.tree import DecisionTreeClassifier\n",
        "\n",
        "\n",
        "def calculate_accuracy(predicted_classes, actual_classes):\n",
        "  return sum(predicted_classes == actual_classes)/len(actual_classes)\n",
        "\n",
        "  data = np.load('galaxy_catalogue.npy')\n",
        "\n",
        "  features, targets = generate_features_targets(data)\n",
        "\n",
        "  dtc = DecisionTreeClassifier()\n",
        "  predicted = cross_val_predict(dtc, features, targets, cv=10)\n",
        "\n",
        "  model_score = calculate_accuracy(predicted, targets)\n",
        "  print(\"Our accuracy score:\", model_score)\n",
        "\n",
        "  class_labels = list(set(targets))\n",
        "  model_cm = confusion_matrix(y_true=targets, y_pred=predicted, labels=class_labels)\n",
        "\n",
        "  plt.figure()\n",
        "  plot_confusion_matrix(model_cm, classes=class_labels, normalize=False)\n",
        "  plt.show()"
      ],
      "metadata": {
        "id": "CKdUMoExcGDd"
      },
      "execution_count": 12,
      "outputs": []
    },
    {
      "cell_type": "markdown",
      "source": [
        "# Random Forest"
      ],
      "metadata": {
        "id": "XrGMo3uqc5fm"
      }
    },
    {
      "cell_type": "code",
      "source": [
        "from sklearn.ensemble import RandomForestClassifier\n",
        "\n",
        "def rf_predict_actual(data, n_estimators):\n",
        "\n",
        "  features, targets = generate_features_targets(data)\n",
        "\n",
        "  rfc = RandomForestClassifier(n_estimators=n_estimators)\n",
        "\n",
        "  predicted = cross_val_predict(rfc, features, targets, cv=10)\n",
        "\n",
        "  return predicted, targets\n",
        "\n",
        "  data = np.load('galaxy_catalogue.npy')\n",
        "\n",
        "  number_estimators = 50            \n",
        "  predicted, actual = rf_predict_actual(data, number_estimators)\n",
        "\n",
        "  accuracy = calculate_accuracy(predicted, actual)\n",
        "  print(\"Accuracy score:\", accuracy)\n",
        "\n",
        "  class_labels = list(set(actual))\n",
        "  model_cm = confusion_matrix(y_true=actual, y_pred=predicted, labels=class_labels)\n",
        "\n",
        "  plt.figure()\n",
        "  plot_confusion_matrix(model_cm, classes=class_labels, normalize=False)\n",
        "  plt.show()"
      ],
      "metadata": {
        "id": "RkzYYUiJcol-"
      },
      "execution_count": 14,
      "outputs": []
    }
  ]
}