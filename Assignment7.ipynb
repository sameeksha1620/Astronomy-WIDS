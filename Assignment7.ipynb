{
  "nbformat": 4,
  "nbformat_minor": 0,
  "metadata": {
    "colab": {
      "name": "Assignment7.ipynb",
      "provenance": [],
      "collapsed_sections": []
    },
    "kernelspec": {
      "name": "python3",
      "display_name": "Python 3"
    },
    "language_info": {
      "name": "python"
    }
  },
  "cells": [
    {
      "cell_type": "markdown",
      "source": [
        "# **Assignment** **7**"
      ],
      "metadata": {
        "id": "GPq0BlIXF_9V"
      }
    },
    {
      "cell_type": "markdown",
      "source": [
        "# TASK 1"
      ],
      "metadata": {
        "id": "0s4F4GXihPHX"
      }
    },
    {
      "cell_type": "code",
      "source": [
        "import numpy as np\n",
        "from scipy.optimize import curve_fit as cf\n",
        "import matplotlib.pyplot as plt"
      ],
      "metadata": {
        "id": "zPS7gTJqbEbp"
      },
      "execution_count": null,
      "outputs": []
    },
    {
      "cell_type": "code",
      "execution_count": null,
      "metadata": {
        "id": "J6PRBMIeF3RI"
      },
      "outputs": [],
      "source": [
        "url='https://raw.githubusercontent.com/krittikaiitb/tutorials/master/Tutorial_07/GW_data_file.csv'\n",
        "data, freq, time = np.loadtxt(url,delimiter=',')"
      ]
    },
    {
      "cell_type": "code",
      "source": [
        "indices = []\n",
        "for i in range(len(data)-1):\n",
        "    if(data[i]*data[i+1] < 0):\n",
        "        indices.append(i)"
      ],
      "metadata": {
        "id": "TY1GnuUFbv_o"
      },
      "execution_count": null,
      "outputs": []
    },
    {
      "cell_type": "code",
      "source": [
        "sampled_time = time[indices] \n",
        "sampled_freq = freq[indices]"
      ],
      "metadata": {
        "id": "yst4uuBOceyy"
      },
      "execution_count": null,
      "outputs": []
    },
    {
      "cell_type": "code",
      "source": [
        "my_indices = np.where(np.logical_and(sampled_time < 0, sampled_freq >50))"
      ],
      "metadata": {
        "id": "W02kRn4zchTY"
      },
      "execution_count": null,
      "outputs": []
    },
    {
      "cell_type": "code",
      "source": [
        "def lin(t,v,c): \n",
        "    return v*t + c"
      ],
      "metadata": {
        "id": "GnUhiykFclWM"
      },
      "execution_count": null,
      "outputs": []
    },
    {
      "cell_type": "code",
      "source": [
        "x_data = np.log(abs(sampled_time[my_indices]))\n",
        "y_data = np.log(abs(sampled_freq[my_indices]))\n",
        "plt.scatter(x_data, y_data)\n",
        "p_opt, p_cov = cf(lin, x_data, y_data)\n",
        "plt.xlabel(\"log(time)\")\n",
        "plt.ylabel(\"log(freq)\")\n",
        "plt.title(\"Freq - time before during in-spiral phase\")\n",
        "plt.plot(x_data, lin(x_data, *p_opt), color = \"red\")\n",
        "\n",
        "print(p_opt)"
      ],
      "metadata": {
        "colab": {
          "base_uri": "https://localhost:8080/",
          "height": 313
        },
        "id": "EFGPzP74c29o",
        "outputId": "8db30a6b-6f78-4a20-9b3d-ddade02f7efe"
      },
      "execution_count": null,
      "outputs": [
        {
          "output_type": "stream",
          "name": "stdout",
          "text": [
            "[-0.23238806  3.41356699]\n"
          ]
        },
        {
          "output_type": "display_data",
          "data": {
            "image/png": "[encoded data removed]",
            "text/plain": [
              "<Figure size 432x288 with 1 Axes>"
            ]
          },
          "metadata": {
            "needs_background": "light"
          }
        }
      ]
    }
  ]
}