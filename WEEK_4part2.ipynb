{
  "nbformat": 4,
  "nbformat_minor": 0,
  "metadata": {
    "colab": {
      "name": "WEEK 4part2.ipynb",
      "provenance": [],
      "collapsed_sections": []
    },
    "kernelspec": {
      "name": "python3",
      "display_name": "Python 3"
    },
    "language_info": {
      "name": "python"
    }
  },
  "cells": [
    {
      "cell_type": "markdown",
      "source": [
        "# **Combining SQL and Python**"
      ],
      "metadata": {
        "id": "2160yhFk098B"
      }
    },
    {
      "cell_type": "code",
      "source": [
        "#Introducing psycopg2\n",
        "def select_all(table):\n",
        "    credentials = \"dbname='astronomy' user='user' host='localhost' \" \\\n",
        "                  \"password='pass'\"\n",
        "    conn = psycopg2.connect()\n",
        "    cur = conn.cursor()\n",
        "    cur.execute('SELECT * FROM %s;' % table)\n",
        "    return cur.fetchall()\n"
      ],
      "metadata": {
        "id": "i7ZAP41nA29B"
      },
      "execution_count": null,
      "outputs": []
    },
    {
      "cell_type": "code",
      "source": [
        "#Querying databases\n",
        "import numpy as np\n",
        "import psycopg2\n",
        "\n",
        "def column_stats(table, col):\n",
        "  conn = psycopg2.connect(dbname='db', user='grok')\n",
        "  cursor = conn.cursor()\n",
        "\n",
        "  query = 'SELECT ' + col + ' FROM ' + table + ';'\n",
        "  cursor.execute(query)\n",
        "  column = np.array(cursor.fetchall())\n",
        "  return np.mean(column), np.median(column)"
      ],
      "metadata": {
        "id": "OhcEulbANrak"
      },
      "execution_count": null,
      "outputs": []
    },
    {
      "cell_type": "code",
      "source": [
        "#SQL VS PYTHON\n",
        "#queries(1/3)\n",
        "def query(f_name):\n",
        "  data = np.loadtxt(f_name , delimiter=',', usecols=(0, 2))\n",
        "  return data[data[:, 1]>1, :]\n",
        "  \n",
        "\n",
        "  print(query('stars.csv')) \n",
        "\n",
        "\n",
        "#queries(2/3)\n",
        "def query(f_name):\n",
        "  data = np.loadtxt(f_name, delimiter=',', usecols=(0, 2))\n",
        "  filtered_data = data[data[:,1]>1, :]\n",
        "  sorted_data = filtered_data[np.argsort(filtered_data[:, 1]), :]\n",
        "  return sorted_data\n",
        " \n",
        "  print(query('stars.csv')) \n",
        "\n",
        "\n",
        "#queries(3/3)\n",
        "def query(fname_1, fname_2):\n",
        "  stars = np.loadtxt(fname_1, delimiter=',', usecols=(0, 2))\n",
        "  planets = np.loadtxt(fname_2, delimiter=',', usecols=(0, 5))\n",
        "\n",
        "  f_stars = stars[stars[:,1]>1, :]                \n",
        "  s_stars = f_stars[np.argsort(f_stars[:, 1]), :] \n",
        " \n",
        "  final = np.zeros((1, 1))\n",
        "  for i in range(s_stars.shape[0]):\n",
        "    kep_id = s_stars[i, 0]\n",
        "    s_radius = s_stars[i, 1]\n",
        "\n",
        "    matching_planets = planets[np.where(planets[:, 0] == kep_id), 1].T\n",
        "    final = np.concatenate((final, matching_planets/s_radius))\n",
        "\n",
        "  return np.sort(final[1:], axis = 0)\n",
        "    \n",
        "  print(query('stars.csv', 'planets.csv')) \n",
        "    "
      ],
      "metadata": {
        "id": "6_LFkyhGN2Rp"
      },
      "execution_count": 16,
      "outputs": []
    }
  ]
}