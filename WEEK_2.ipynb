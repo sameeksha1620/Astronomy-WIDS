{
  "nbformat": 4,
  "nbformat_minor": 0,
  "metadata": {
    "colab": {
      "name": "WEEK 2.ipynb",
      "provenance": [],
      "collapsed_sections": []
    },
    "kernelspec": {
      "name": "python3",
      "display_name": "Python 3"
    },
    "language_info": {
      "name": "python"
    }
  },
  "cells": [
    {
      "cell_type": "markdown",
      "source": [
        "# **Cross matcher**"
      ],
      "metadata": {
        "id": "QJHTGEVZc2CJ"
      }
    },
    {
      "cell_type": "code",
      "execution_count": 10,
      "metadata": {
        "id": "d5PXSGE-ymOl"
      },
      "outputs": [],
      "source": [
        "#CONVERT TO DECIMAL DEGREES\n",
        "import numpy as np\n",
        "def hms2dec(h, m, s):\n",
        "  return 15*(h + m/60 + s/3600)\n",
        "\n",
        "def dms2dec(d, m, s):\n",
        "  if d < 0:\n",
        "    sign = -1\n",
        "  else:\n",
        "    sign = 1\n",
        "  return sign*(abs(d) + m/60 + s/3600)"
      ]
    },
    {
      "cell_type": "code",
      "source": [
        "#calculating angular distance between two points\n",
        "def angular_dist(r1, d1, r2, d2):\n",
        "    r1, d1, r2, d2 = map(np.radians, [r1, d1, r2, d2])\n",
        "    \n",
        "    a = np.sin(np.abs(d1 - d2)/2)**2\n",
        "    b = np.cos(d1)*np.cos(d2)*np.sin(np.abs(r1 - r2)/2)**2\n",
        "    \n",
        "    x = 2*np.arcsin(np.sqrt(a + b))\n",
        "    return np.degrees(x)\n",
        "\n",
        "print(angular_dist(21.07, 0.1, 21.15, 8.2))"
      ],
      "metadata": {
        "colab": {
          "base_uri": "https://localhost:8080/"
        },
        "id": "m-RFhTLGdIon",
        "outputId": "d1b3dea7-6448-4eed-9fdb-2560345558c2"
      },
      "execution_count": 11,
      "outputs": [
        {
          "output_type": "stream",
          "name": "stdout",
          "text": [
            "8.100392318146504\n"
          ]
        }
      ]
    },
    {
      "cell_type": "code",
      "source": [
        "#playing with space cats\n",
        "def hms2dec(hr, m, s):\n",
        "  dec = hr + m/60 + s/3600\n",
        "  return dec*15\n",
        "\n",
        "def dms2dec(d, m, s):\n",
        "  sign = d/abs(d)\n",
        "  dec = abs(d) + m/60 + s/3600\n",
        "  return sign*dec\n",
        "\n",
        "def import_bss():\n",
        "  res = []\n",
        "  data = np.loadtxt('bss.dat', usecols=range(1, 7))\n",
        "  for i, row in enumerate(data, 1):\n",
        "    res.append((i, hms2dec(row[0], row[1], row[2]), dms2dec(row[3], row[4], row[5])))\n",
        "  return res\n",
        "\n",
        "def import_super():\n",
        "  data = np.loadtxt('super.csv', delimiter=',', skiprows=1, usecols=(0, 1))\n",
        "  res = []\n",
        "  for i, row in enumerate(data, 1):\n",
        "    res.append((i, row[0], row[1]))\n",
        "  return res\n"
      ],
      "metadata": {
        "id": "gIBoq_C6din5"
      },
      "execution_count": 12,
      "outputs": []
    },
    {
      "cell_type": "code",
      "source": [
        " #closest match for the target source in the catalogue\n",
        "def find_closest(cat, ra, dec):\n",
        "  min_dist = np.inf\n",
        "  min_id = None\n",
        "  for id1, ra1, dec1 in cat:\n",
        "    dist = angular_dist(ra1, dec1, ra, dec)\n",
        "    if dist < min_dist:\n",
        "      min_id = id1\n",
        "      min_dist = dist\n",
        "    \n",
        "  return min_id, min_dist"
      ],
      "metadata": {
        "id": "B4tDu13ge53o"
      },
      "execution_count": 13,
      "outputs": []
    },
    {
      "cell_type": "code",
      "source": [
        "#crossmatch\n",
        "def crossmatch(cat1, cat2, max_radius):\n",
        "    matches = []\n",
        "    no_matches = []\n",
        "    for id1, ra1, dec1 in cat1:\n",
        "        closest_dist = np.inf\n",
        "        closest_id2 = None\n",
        "        for id2, ra2, dec2 in cat2:\n",
        "            dist = angular_dist(ra1, dec1, ra2, dec2)\n",
        "            if dist < closest_dist:\n",
        "                closest_id2 = id2\n",
        "                closest_dist = dist\n",
        "        \n",
        "        if closest_dist > max_radius:\n",
        "            no_matches.append(id1)\n",
        "        else:\n",
        "            matches.append((id1, closest_id2, closest_dist))\n",
        "\n",
        "    return matches, no_matches"
      ],
      "metadata": {
        "id": "SikQ6z0Td0WJ"
      },
      "execution_count": 14,
      "outputs": []
    },
    {
      "cell_type": "code",
      "source": [
        "#micro-optimization\n",
        "import time\n",
        "\n",
        "def angular_dist(r1, d1, r2, d2):\n",
        "  a = np.sin(np.abs(d1 - d2)/2)**2\n",
        "  b = np.cos(d1)*np.cos(d2)*np.sin(np.abs(r1 - r2)/2)**2\n",
        "  return 2*np.arcsin(np.sqrt(a + b))\n",
        "\n",
        "def crossmatch(cat1, cat2, max_radius):\n",
        "  start = time.perf_counter()\n",
        "  max_radius = np.radians(max_radius)\n",
        "matches = []\n",
        "no_matches = []\n",
        "\n",
        "cat1 = np.radians(cat1)\n",
        "cat2 = np.radians(cat2)\n",
        "  for id1, (ra1, dec1) in enumerate(cat1):\n",
        "    min_dist = np.inf\n",
        "    min_id2 = None\n",
        "    for id2, (ra2, dec2) in enumerate(cat2):\n",
        "      dist = angular_dist(ra1, dec1, ra2, dec2)\n",
        "      if dist < min_dist:\n",
        "        min_id2 = id2\n",
        "        min_dist = dist\n",
        "\n",
        "    if min_dist > max_radius:\n",
        "      no_matches.append(id1)\n",
        "    else:\n",
        "      matches.append((id1, min_id2, np.degrees(min_dist)))\n",
        "    \n",
        "  time_taken = time.perf_counter() - start\n",
        "  return matches, no_matches, time_taken\n",
        "\n",
        "  cat1 = np.array([[180, 30], [45, 10], [300, -45]])\n",
        "  cat2 = np.array([[180, 32], [55, 10], [302, -44]])\n",
        "  matches, no_matches, time_taken = crossmatch(cat1, cat2, 5)\n",
        "  print('matches:', matches)\n",
        "  print('unmatched:', no_matches)\n",
        "  print('time taken:', time_taken)\n",
        "\n",
        "  def create_cat(n):\n",
        "    ras = np.random.uniform(0, 360, size=(n, 1))\n",
        "    decs = np.random.uniform(-90, 90, size=(n, 1))\n",
        "    return np.hstack((ras, decs))\n",
        "\n",
        "  cat1 = create_cat(10)\n",
        "  cat2 = create_cat(20)\n",
        "  matches, no_matches, time_taken = crossmatch(cat1, cat2, 5)\n",
        "  print('matches:', matches)\n",
        "  print('unmatched:', no_matches)\n",
        "  print('time taken:', time_taken)"
      ],
      "metadata": {
        "id": "8uncZcBTvxrl"
      },
      "execution_count": null,
      "outputs": []
    },
    {
      "cell_type": "code",
      "source": [
        "#vectorization\n",
        "def angular_dist(r1, d1, r2, d2):\n",
        "  a = np.sin(np.abs(d1 - d2)/2)**2\n",
        "  b = np.cos(d1)*np.cos(d2)*np.sin(np.abs(r1 - r2)/2)**2\n",
        "  return 2*np.arcsin(np.sqrt(a + b))\n",
        "\n",
        "def crossmatch(cat1, cat2, max_radius):\n",
        "  start = time.perf_counter()\n",
        "  max_radius = np.radians(max_radius)\n",
        "  \n",
        "  matches = []\n",
        "  no_matches = []\n",
        "  \n",
        "  cat1 = np.radians(cat1)\n",
        "  cat2 = np.radians(cat2)\n",
        "  ra2s = cat2[:,0]\n",
        "  dec2s = cat2[:,1]\n",
        "\n",
        "  for id1, (ra1, dec1) in enumerate(cat1):\n",
        "    dists = angular_dist(ra1, dec1, ra2s, dec2s)\n",
        "    min_id = np.argmin(dists)\n",
        "    min_dist = dists[min_id]\n",
        "    if min_dist > max_radius:\n",
        "      no_matches.append(id1)\n",
        "    else:\n",
        "      matches.append((id1, min_id, np.degrees(min_dist)))\n",
        "    \n",
        "  time_taken = time.perf_counter() - start\n",
        "  return matches, no_matches, time_taken"
      ],
      "metadata": {
        "id": "Gc8b3JLU3hAa"
      },
      "execution_count": 30,
      "outputs": []
    },
    {
      "cell_type": "code",
      "source": [
        ""
      ],
      "metadata": {
        "id": "esg8HMaK39F-"
      },
      "execution_count": null,
      "outputs": []
    }
  ]
}