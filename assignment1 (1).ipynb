{
  "nbformat": 4,
  "nbformat_minor": 0,
  "metadata": {
    "colab": {
      "name": "assignment1.ipynb",
      "provenance": [],
      "collapsed_sections": []
    },
    "kernelspec": {
      "name": "python3",
      "display_name": "Python 3"
    },
    "language_info": {
      "name": "python"
    }
  },
  "cells": [
    {
      "cell_type": "markdown",
      "source": [
        "# **Assignment1**"
      ],
      "metadata": {
        "id": "JuCaTrSUDdbp"
      }
    },
    {
      "cell_type": "code",
      "source": [
        "\n",
        "import pandas as pd\n",
        "from collections import Counter\n",
        "url = 'https://raw.githubusercontent.com/krittikaiitb/tutorials/master/Tutorial_01/Moons_and_planets.csv'\n",
        "file = pd.read_csv(url)\n",
        "doc = pd.DataFrame(file)\n",
        "\n"
      ],
      "metadata": {
        "colab": {
          "base_uri": "https://localhost:8080/",
          "height": 206
        },
        "id": "-dFi2qH--cpC",
        "outputId": "a87fbf86-7a54-4cdc-924a-233055d15fa7"
      },
      "execution_count": null,
      "outputs": [
        {
          "output_type": "execute_result",
          "data": {
            "text/html": [
              "\n",
              "  <div id=\"df-12cf9383-a41d-492f-83e9-7fd89e5ab342\">\n",
              "    <div class=\"colab-df-container\">\n",
              "      <div>\n",
              "<style scoped>\n",
              "    .dataframe tbody tr th:only-of-type {\n",
              "        vertical-align: middle;\n",
              "    }\n",
              "\n",
              "    .dataframe tbody tr th {\n",
              "        vertical-align: top;\n",
              "    }\n",
              "\n",
              "    .dataframe thead th {\n",
              "        text-align: right;\n",
              "    }\n",
              "</style>\n",
              "<table border=\"1\" class=\"dataframe\">\n",
              "  <thead>\n",
              "    <tr style=\"text-align: right;\">\n",
              "      <th></th>\n",
              "      <th># Name of Moon</th>\n",
              "      <th>Name of Planet</th>\n",
              "      <th>Diameter (km)</th>\n",
              "    </tr>\n",
              "  </thead>\n",
              "  <tbody>\n",
              "    <tr>\n",
              "      <th>0</th>\n",
              "      <td>Moon</td>\n",
              "      <td>Earth</td>\n",
              "      <td>1737.1</td>\n",
              "    </tr>\n",
              "    <tr>\n",
              "      <th>1</th>\n",
              "      <td>Phobos</td>\n",
              "      <td>Mars</td>\n",
              "      <td>11.1</td>\n",
              "    </tr>\n",
              "    <tr>\n",
              "      <th>2</th>\n",
              "      <td>Deimos</td>\n",
              "      <td>Mars</td>\n",
              "      <td>6.2</td>\n",
              "    </tr>\n",
              "    <tr>\n",
              "      <th>3</th>\n",
              "      <td>Io</td>\n",
              "      <td>Jupiter</td>\n",
              "      <td>1818.1</td>\n",
              "    </tr>\n",
              "    <tr>\n",
              "      <th>4</th>\n",
              "      <td>Europa</td>\n",
              "      <td>Jupiter</td>\n",
              "      <td>1560.7</td>\n",
              "    </tr>\n",
              "  </tbody>\n",
              "</table>\n",
              "</div>\n",
              "      <button class=\"colab-df-convert\" onclick=\"convertToInteractive('df-12cf9383-a41d-492f-83e9-7fd89e5ab342')\"\n",
              "              title=\"Convert this dataframe to an interactive table.\"\n",
              "              style=\"display:none;\">\n",
              "        \n",
              "  <svg xmlns=\"http://www.w3.org/2000/svg\" height=\"24px\"viewBox=\"0 0 24 24\"\n",
              "       width=\"24px\">\n",
              "    <path d=\"M0 0h24v24H0V0z\" fill=\"none\"/>\n",
              "    <path d=\"M18.56 5.44l.94 2.06.94-2.06 2.06-.94-2.06-.94-.94-2.06-.94 2.06-2.06.94zm-11 1L8.5 8.5l.94-2.06 2.06-.94-2.06-.94L8.5 2.5l-.94 2.06-2.06.94zm10 10l.94 2.06.94-2.06 2.06-.94-2.06-.94-.94-2.06-.94 2.06-2.06.94z\"/><path d=\"M17.41 7.96l-1.37-1.37c-.4-.4-.92-.59-1.43-.59-.52 0-1.04.2-1.43.59L10.3 9.45l-7.72 7.72c-.78.78-.78 2.05 0 2.83L4 21.41c.39.39.9.59 1.41.59.51 0 1.02-.2 1.41-.59l7.78-7.78 2.81-2.81c.8-.78.8-2.07 0-2.86zM5.41 20L4 18.59l7.72-7.72 1.47 1.35L5.41 20z\"/>\n",
              "  </svg>\n",
              "      </button>\n",
              "      \n",
              "  <style>\n",
              "    .colab-df-container {\n",
              "      display:flex;\n",
              "      flex-wrap:wrap;\n",
              "      gap: 12px;\n",
              "    }\n",
              "\n",
              "    .colab-df-convert {\n",
              "      background-color: #E8F0FE;\n",
              "      border: none;\n",
              "      border-radius: 50%;\n",
              "      cursor: pointer;\n",
              "      display: none;\n",
              "      fill: #1967D2;\n",
              "      height: 32px;\n",
              "      padding: 0 0 0 0;\n",
              "      width: 32px;\n",
              "    }\n",
              "\n",
              "    .colab-df-convert:hover {\n",
              "      background-color: #E2EBFA;\n",
              "      box-shadow: 0px 1px 2px rgba(60, 64, 67, 0.3), 0px 1px 3px 1px rgba(60, 64, 67, 0.15);\n",
              "      fill: #174EA6;\n",
              "    }\n",
              "\n",
              "    [theme=dark] .colab-df-convert {\n",
              "      background-color: #3B4455;\n",
              "      fill: #D2E3FC;\n",
              "    }\n",
              "\n",
              "    [theme=dark] .colab-df-convert:hover {\n",
              "      background-color: #434B5C;\n",
              "      box-shadow: 0px 1px 3px 1px rgba(0, 0, 0, 0.15);\n",
              "      filter: drop-shadow(0px 1px 2px rgba(0, 0, 0, 0.3));\n",
              "      fill: #FFFFFF;\n",
              "    }\n",
              "  </style>\n",
              "\n",
              "      <script>\n",
              "        const buttonEl =\n",
              "          document.querySelector('#df-12cf9383-a41d-492f-83e9-7fd89e5ab342 button.colab-df-convert');\n",
              "        buttonEl.style.display =\n",
              "          google.colab.kernel.accessAllowed ? 'block' : 'none';\n",
              "\n",
              "        async function convertToInteractive(key) {\n",
              "          const element = document.querySelector('#df-12cf9383-a41d-492f-83e9-7fd89e5ab342');\n",
              "          const dataTable =\n",
              "            await google.colab.kernel.invokeFunction('convertToInteractive',\n",
              "                                                     [key], {});\n",
              "          if (!dataTable) return;\n",
              "\n",
              "          const docLinkHtml = 'Like what you see? Visit the ' +\n",
              "            '<a target=\"_blank\" href=https://colab.research.google.com/notebooks/data_table.ipynb>data table notebook</a>'\n",
              "            + ' to learn more about interactive tables.';\n",
              "          element.innerHTML = '';\n",
              "          dataTable['output_type'] = 'display_data';\n",
              "          await google.colab.output.renderOutput(dataTable, element);\n",
              "          const docLink = document.createElement('div');\n",
              "          docLink.innerHTML = docLinkHtml;\n",
              "          element.appendChild(docLink);\n",
              "        }\n",
              "      </script>\n",
              "    </div>\n",
              "  </div>\n",
              "  "
            ],
            "text/plain": [
              "  # Name of Moon  Name of Planet   Diameter (km)\n",
              "0           Moon           Earth          1737.1\n",
              "1         Phobos            Mars            11.1\n",
              "2         Deimos            Mars             6.2\n",
              "3             Io         Jupiter          1818.1\n",
              "4         Europa         Jupiter          1560.7"
            ]
          },
          "metadata": {},
          "execution_count": 127
        }
      ]
    },
    {
      "cell_type": "code",
      "source": [
        "col_val = doc.columns.values\n",
        "print(col_val)"
      ],
      "metadata": {
        "colab": {
          "base_uri": "https://localhost:8080/"
        },
        "id": "JN8aZIyMRfx3",
        "outputId": "9baaf79a-b833-4855-c7f0-604d0ebbde69"
      },
      "execution_count": null,
      "outputs": [
        {
          "output_type": "stream",
          "name": "stdout",
          "text": [
            "['# Name of Moon' ' Name of Planet' ' Diameter (km)']\n"
          ]
        }
      ]
    },
    {
      "cell_type": "code",
      "source": [
        "col_val = doc.columns.values\n",
        "x = list(doc[' Name of Planet'])\n"
      ],
      "metadata": {
        "colab": {
          "base_uri": "https://localhost:8080/"
        },
        "id": "fmBU8JAfGwNu",
        "outputId": "7a853411-4940-4620-ceb2-9b22415bb640"
      },
      "execution_count": null,
      "outputs": [
        {
          "output_type": "stream",
          "name": "stdout",
          "text": [
            "['Earth', 'Mars', 'Mars', 'Jupiter', 'Jupiter', 'Jupiter', 'Jupiter', 'Jupiter', 'Jupiter', 'Jupiter', 'Jupiter', 'Jupiter', 'Jupiter', 'Jupiter', 'Jupiter', 'Jupiter', 'Jupiter', 'Jupiter', 'Jupiter', 'Jupiter', 'Jupiter', 'Jupiter', 'Jupiter', 'Jupiter', 'Jupiter', 'Jupiter', 'Jupiter', 'Jupiter', 'Jupiter', 'Jupiter', 'Jupiter', 'Jupiter', 'Jupiter', 'Jupiter', 'Jupiter', 'Jupiter', 'Jupiter', 'Jupiter', 'Jupiter', 'Jupiter', 'Jupiter', 'Jupiter', 'Jupiter', 'Jupiter', 'Jupiter', 'Jupiter', 'Jupiter', 'Jupiter', 'Jupiter', 'Jupiter', 'Jupiter', 'Jupiter', 'Jupiter', 'Jupiter', 'Jupiter', 'Jupiter', 'Jupiter', 'Jupiter', 'Jupiter', 'Jupiter', 'Jupiter', 'Jupiter', 'Jupiter', 'Jupiter', 'Jupiter', 'Jupiter', 'Jupiter', 'Jupiter', 'Jupiter', 'Jupiter', 'Jupiter', 'Jupiter', 'Jupiter', 'Jupiter', 'Jupiter', 'Jupiter', 'Jupiter', 'Jupiter', 'Jupiter', 'Jupiter', 'Jupiter', 'Jupiter', 'Saturn', 'Saturn', 'Saturn', 'Saturn', 'Saturn', 'Saturn', 'Saturn', 'Saturn', 'Saturn', 'Saturn', 'Saturn', 'Saturn', 'Saturn', 'Saturn', 'Saturn', 'Saturn', 'Saturn', 'Saturn', 'Saturn', 'Saturn', 'Saturn', 'Saturn', 'Saturn', 'Saturn', 'Saturn', 'Saturn', 'Saturn', 'Saturn', 'Saturn', 'Saturn', 'Saturn', 'Saturn', 'Saturn', 'Saturn', 'Saturn', 'Saturn', 'Saturn', 'Saturn', 'Saturn', 'Saturn', 'Saturn', 'Saturn', 'Saturn', 'Saturn', 'Saturn', 'Saturn', 'Saturn', 'Saturn', 'Saturn', 'Saturn', 'Saturn', 'Saturn', 'Saturn', 'Saturn', 'Saturn', 'Saturn', 'Saturn', 'Saturn', 'Saturn', 'Saturn', 'Saturn', 'Saturn', 'Saturn', 'Saturn', 'Saturn', 'Saturn', 'Saturn', 'Saturn', 'Saturn', 'Saturn', 'Saturn', 'Saturn', 'Saturn', 'Saturn', 'Saturn', 'Saturn', 'Saturn', 'Saturn', 'Saturn', 'Saturn', 'Saturn', 'Saturn', 'Uranus', 'Uranus', 'Uranus', 'Uranus', 'Uranus', 'Uranus', 'Uranus', 'Uranus', 'Uranus', 'Uranus', 'Uranus', 'Uranus', 'Uranus', 'Uranus', 'Uranus', 'Uranus', 'Uranus', 'Uranus', 'Uranus', 'Uranus', 'Uranus', 'Uranus', 'Uranus', 'Uranus', 'Uranus', 'Uranus', 'Uranus', 'Neptune', 'Neptune', 'Neptune', 'Neptune', 'Neptune', 'Neptune', 'Neptune', 'Neptune', 'Neptune', 'Neptune', 'Neptune', 'Neptune', 'Neptune', 'Neptune', 'Pluto', 'Pluto', 'Pluto', 'Pluto', 'Pluto']\n"
          ]
        }
      ]
    },
    {
      "cell_type": "code",
      "source": [
        "mercury,venus,earth,mars,jupiter,saturn,uranus,neptune,pluto=[0,0,0,0,0,0,0,0,0]\n",
        "\n",
        "for i in range(len(x)):           \n",
        "    if x[i] == 'Mercury':\n",
        "        mercury=mercury+1\n",
        "    elif x[i]== 'Venus':\n",
        "        venus = venus+1\n",
        "    elif x[i]== 'Earth':\n",
        "        earth =earth+1\n",
        "    elif x[i]== 'Mars':\n",
        "        mars=mars+1\n",
        "    elif x[i]== 'Jupiter':\n",
        "        jupiter=jupiter+1\n",
        "    elif x== 'Saturn':\n",
        "        saturn=saturn+1\n",
        "    elif x[i]== 'Uranus':\n",
        "        uranus=uranus+1\n",
        "    elif x[i]== 'Neptune':\n",
        "        neptune=neptune+1\n",
        "    elif x[i]== 'Pluto':\n",
        "        pluto=pluto+1"
      ],
      "metadata": {
        "id": "uXZf7dP0Dlw8"
      },
      "execution_count": null,
      "outputs": []
    },
    {
      "cell_type": "code",
      "source": [
        "print(mercury,venus,earth,mars,jupiter,saturn,uranus,neptune,pluto)\n",
        "\n",
        "# number of moons a planet have"
      ],
      "metadata": {
        "colab": {
          "base_uri": "https://localhost:8080/"
        },
        "id": "GnHzVb59EcsI",
        "outputId": "021a9b2a-d380-454c-f42c-284375ec5da5"
      },
      "execution_count": null,
      "outputs": [
        {
          "output_type": "stream",
          "name": "stdout",
          "text": [
            "0 0 1 2 79 0 27 14 5\n"
          ]
        }
      ]
    }
  ]
}