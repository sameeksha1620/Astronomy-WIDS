{
  "nbformat": 4,
  "nbformat_minor": 0,
  "metadata": {
    "colab": {
      "name": "Assignment3.ipynb",
      "provenance": [],
      "collapsed_sections": []
    },
    "kernelspec": {
      "name": "python3",
      "display_name": "Python 3"
    },
    "language_info": {
      "name": "python"
    }
  },
  "cells": [
    {
      "cell_type": "markdown",
      "source": [
        "# **Assignment3**"
      ],
      "metadata": {
        "id": "6ch0G_Ghizs_"
      }
    },
    {
      "cell_type": "code",
      "execution_count": null,
      "metadata": {
        "id": "TkR_FfDsgaM-"
      },
      "outputs": [],
      "source": [
        "import numpy as np\n",
        "url ='https://raw.githubusercontent.com/krittikaiitb/tutorials/master/Tutorial_03/galaxies.csv'\n",
        "serialno, objra, objdec, redshift = np.loadtxt(url, delimiter = ',', unpack = True)"
      ]
    },
    {
      "cell_type": "code",
      "source": [
        "H0 = 70 \n",
        "c = 3E5 \n",
        "\n",
        "def distance_from_z(z):\n",
        "    return z*c/H0 \n",
        "\n",
        "def get_distance(num): \n",
        "    index = np.where(serialno == num)[0][0] \n",
        "    return distance_from_z(redshift[index])"
      ],
      "metadata": {
        "id": "iKehx7Yvh3zM"
      },
      "execution_count": null,
      "outputs": []
    },
    {
      "cell_type": "code",
      "source": [
        "serial = 1000\n",
        "print(f\"Distance of galaxy {serial} is {get_distance(serial):5.2f} Mpc\")"
      ],
      "metadata": {
        "colab": {
          "base_uri": "https://localhost:8080/"
        },
        "id": "UFpSpzW9iFvb",
        "outputId": "896c652e-b37a-43a3-997c-799e56e5d2b4"
      },
      "execution_count": null,
      "outputs": [
        {
          "output_type": "stream",
          "name": "stdout",
          "text": [
            "Distance of galaxy 1000 is 160.18 Mpc\n"
          ]
        }
      ]
    },
    {
      "cell_type": "code",
      "source": [
        "def distance_to_z(distance): \n",
        "    return H0*distance/c\n",
        "\n",
        "def count_galaxies(distance1, distance2): \n",
        "    z1 = distance_to_z(distance1)\n",
        "    z2 = distance_to_z(distance2)\n",
        "    indices = np.where(np.logical_and(redshift>=z1, redshift<=z2))\n",
        "    return len(indices[0])"
      ],
      "metadata": {
        "id": "xCQTdpk7ibEo"
      },
      "execution_count": null,
      "outputs": []
    },
    {
      "cell_type": "code",
      "source": [
        "dist1 = 200\n",
        "dist2 = 210\n",
        "print(f\"Number of Galaxies observed by MaNGA between {dist1} Mpc and {dist2} Mpc is {count_galaxies(200,210)}\")"
      ],
      "metadata": {
        "colab": {
          "base_uri": "https://localhost:8080/"
        },
        "id": "1M1u8KJkijDV",
        "outputId": "931f3b6b-41b0-4470-9cde-d91ac3825b42"
      },
      "execution_count": null,
      "outputs": [
        {
          "output_type": "stream",
          "name": "stdout",
          "text": [
            "Number of Galaxies observed by MaNGA between 200 Mpc and 210 Mpc is 118\n"
          ]
        }
      ]
    },
    {
      "cell_type": "code",
      "source": [
        "def cosine_law(side1, side2, cosine_value):\n",
        "    return (side1**2 + side2**2 - 2*side1*side2*cosine_value)**0.5\n",
        "\n",
        "def cosine_angular_separation(coordinate1, coordinate2): #angular separation between 2 galaxies, given their ra, dec values\n",
        "    ra1 = coordinate1[0]*np.pi/180\n",
        "    dec1 = coordinate1[1]*np.pi/180\n",
        "    ra2 = coordinate2[0]*np.pi/180\n",
        "    dec2 = coordinate2[1]*np.pi/180\n",
        "    cosine_value = np.sin(dec1)*np.sin(dec2) + np.cos(dec1)*np.cos(dec2)*np.cos(ra1-ra2)\n",
        "    return cosine_value\n",
        "\n",
        "def get_coordinates(num): #get ra and dec of a galaxy, given its serialnum\n",
        "    return objra[np.where(serialno == num)], objdec[np.where(serialno == num)]\n",
        "\n",
        "def get_separation(num1, num2): #get distance between two galaxies, given their serial numbers\n",
        "    coordinate1 = (get_coordinates(num1)[0][0], get_coordinates(num1)[1][0])\n",
        "    coordinate2 = (get_coordinates(num2)[0][0], get_coordinates(num2)[1][0])\n",
        "    cosine_value = cosine_angular_separation(coordinate1, coordinate2)\n",
        "    side1 = get_distance(num1)\n",
        "    side2 = get_distance(num2)\n",
        "    separation = cosine_law(side1, side2, cosine_value)\n",
        "    return separation"
      ],
      "metadata": {
        "id": "WPvEARiZio8e"
      },
      "execution_count": null,
      "outputs": []
    },
    {
      "cell_type": "code",
      "source": [
        "serial1, serial2 = 1000, 2000\n",
        "print(f\"The distance between Galaxies {serial1} and {serial2} is {get_separation(serial1, serial2)} Mpc\") "
      ],
      "metadata": {
        "colab": {
          "base_uri": "https://localhost:8080/"
        },
        "id": "GhWpsroDiunJ",
        "outputId": "327c91b7-b6a1-4151-fa96-a59f7edc8643"
      },
      "execution_count": null,
      "outputs": [
        {
          "output_type": "stream",
          "name": "stdout",
          "text": [
            "The distance between Galaxies 1000 and 2000 is 169.9829610909196 Mpc\n"
          ]
        }
      ]
    }
  ]
}