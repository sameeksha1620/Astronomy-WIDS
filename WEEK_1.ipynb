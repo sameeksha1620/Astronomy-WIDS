{
  "nbformat": 4,
  "nbformat_minor": 0,
  "metadata": {
    "colab": {
      "name": "WEEK 1.ipynb",
      "provenance": [],
      "collapsed_sections": []
    },
    "kernelspec": {
      "name": "python3",
      "display_name": "Python 3"
    },
    "language_info": {
      "name": "python"
    }
  },
  "cells": [
    {
      "cell_type": "markdown",
      "source": [
        "# **Calculating the mean stack**"
      ],
      "metadata": {
        "id": "SAADGzIeujtc"
      }
    },
    {
      "cell_type": "code",
      "execution_count": 1,
      "metadata": {
        "id": "BRu69IeDuT00"
      },
      "outputs": [],
      "source": [
        "#mean of a list\n",
        "def calculate_mean(data):\n",
        "  mean = sum(data)/len(data)\n",
        "  return mean"
      ]
    },
    {
      "cell_type": "code",
      "source": [
        "#mean of 1D arrray\n",
        "import numpy as np\n",
        "def calc_stats(filename):\n",
        "  data=np.loadtxt(filename,delimiter=',')\n",
        "  mean=np.mean(data)\n",
        "  median=np.median(data)\n",
        "  return np.round(mean,1), np.round(median,1)"
      ],
      "metadata": {
        "id": "u-RcspZHu50I"
      },
      "execution_count": 3,
      "outputs": []
    },
    {
      "cell_type": "code",
      "source": [
        "#mean of set of signals\n",
        "def mean_datasets(filename):\n",
        "  n=len(filename)\n",
        "  if n > 0:\n",
        "    data=np.loadtxt(filename[0],delimiter=',')\n",
        "    for i in range(1,n):\n",
        "      data += np.loadtxt(filename[i], delimiter=',')\n",
        "      \n",
        "      data_mean = data/n"
      ],
      "metadata": {
        "id": "LNld2K9UvJKY"
      },
      "execution_count": 5,
      "outputs": []
    },
    {
      "cell_type": "code",
      "source": [
        "#read a fits file\n",
        "from astropy.io import fits\n",
        "def load_fits(filename):\n",
        "  hdulist=fits.open(filename)\n",
        "  data= hdulist[0].data\n",
        "  arg_max =np.argmax(data)\n",
        "  max_pos=np.unravel_index(arg_max, data.shape)\n",
        "  \n",
        "  return max_pos\n",
        "\n",
        "\n",
        "  # Run your `load_fits` function with examples:\n",
        "  bright = load_fits('image1.fits')\n",
        "  print(bright)\n",
        "\n",
        "  # You can also confirm your result visually:\n",
        "  from astropy.io import fits\n",
        "  import matplotlib.pyplot as plt\n",
        "\n",
        "  hdulist = fits.open('image1.fits')\n",
        "  data = hdulist[0].data\n",
        "\n",
        "  # Plot the 2D image data\n",
        "  plt.imshow(data.T, cmap=plt.cm.viridis)\n",
        "  plt.colorbar()\n",
        "  plt.show()"
      ],
      "metadata": {
        "id": "RUp6PK4mvTLh"
      },
      "execution_count": 21,
      "outputs": []
    },
    {
      "cell_type": "code",
      "source": [
        "#mean of a set of fits file\n",
        "def mean_fits(files):\n",
        "  n=len(files)\n",
        "  if n>0:\n",
        "    \n",
        "    hdulist=fits.open(files[0])\n",
        "    data= hdulist[0].data\n",
        "    hdulist.close()\n",
        "    \n",
        "    for i in range(1,n):\n",
        "      hdulist = fits.open(files[i])\n",
        "      data+=hdulist[0].data\n",
        "      hdulist.close()\n",
        "      \n",
        "    mean=data/n\n",
        "    return mean\n",
        "\n",
        "\n",
        "\n",
        "\n",
        "  # You can also plot the result:\n",
        "  import matplotlib.pyplot as plt\n",
        "  plt.imshow(data.T, cmap=plt.cm.viridis)\n",
        "  plt.colorbar()\n",
        "  plt.show()"
      ],
      "metadata": {
        "id": "1SLIwiKbv2-e"
      },
      "execution_count": 9,
      "outputs": []
    },
    {
      "cell_type": "code",
      "source": [
        "#comparing median and mean\n",
        "def list_stats(values):\n",
        "    \n",
        "    N = len(values)\n",
        "    if N == 0:\n",
        "       return\n",
        "      \n",
        "    mean=sum(values)/N\n",
        "    values.sort()\n",
        "    mid=int(N/2)\n",
        "    if N%2 ==0:\n",
        "      median = (values[mid] + values[mid-1])/2\n",
        "    else:\n",
        "      median= values[mid]\n",
        "      \n",
        "    return median,mean"
      ],
      "metadata": {
        "id": "lvCuRn-Ywnrl"
      },
      "execution_count": 11,
      "outputs": []
    },
    {
      "cell_type": "code",
      "source": [
        "#time it\n",
        "import statistics\n",
        "import time\n",
        "\n",
        "def time_stat(func, size, ntrials):\n",
        "  total=0\n",
        "  for i in range(ntrials):\n",
        " \n",
        "   data = np.random.rand(size)\n",
        "   start=time.perf_counter()\n",
        " \n",
        "   res = func(data)\n",
        "   total+=time.perf_counter()-start\n",
        "  # return the average run time\n",
        "  return total/ntrials\n",
        "\n",
        "if __name__ == '__main__':\n",
        "  print('{:.6f}s for statistics.mean'.format(time_stat(statistics.mean, 10**5, 10)))\n",
        "  print('{:.6f}s for np.mean'.format(time_stat(np.mean, 10**5, 1000)))\n"
      ],
      "metadata": {
        "id": "4LcvZfaTw90K"
      },
      "execution_count": null,
      "outputs": []
    },
    {
      "cell_type": "code",
      "source": [
        "#how much does the median cost\n",
        "def median_fits(filenames):\n",
        "\n",
        "  start = time.time()  \n",
        "\n",
        "  FITS_list = []\n",
        "  for filename in filenames: \n",
        "    hdulist = fits.open(filename)\n",
        "    FITS_list.append(hdulist[0].data)\n",
        "    hdulist.close()\n",
        "\n",
        "  FITS_stack = np.dstack(FITS_list)\n",
        "\n",
        "  median = np.median(FITS_stack, axis=2)\n",
        "\n",
        "  memory = FITS_stack.nbytes\n",
        "  memory /= 1024\n",
        "  \n",
        "  stop = time.time() - start  \n",
        "  return median, stop, memory"
      ],
      "metadata": {
        "id": "ZOkFpk13xIJK"
      },
      "execution_count": 19,
      "outputs": []
    },
    {
      "cell_type": "code",
      "source": [
        "#binapprox\n",
        "def median_bins(values, B):\n",
        "  mean = np.mean(values)\n",
        "  std = np.std(values)\n",
        "    \n",
        "  left_bin = 0\n",
        "  bins = np.zeros(B)\n",
        "  bin_width = 2*std/B\n",
        "    \n",
        "  for value in values:\n",
        "    if value < mean - std:\n",
        "      left_bin += 1\n",
        "    elif value < mean + std:\n",
        "      bin = int((value - (mean - std))/bin_width)\n",
        "      bins[bin] += 1\n",
        "\n",
        "  return mean, std, left_bin, bins\n",
        "\n",
        "\n",
        "def median_approx(values, B):\n",
        "  mean, std, left_bin, bins = median_bins(values, B)\n",
        "    \t\n",
        "  N = len(values)\n",
        "  mid = (N + 1)/2\n",
        "\n",
        "  count = left_bin\n",
        "  for b, bincount in enumerate(bins):\n",
        "    count += bincount\n",
        "    if count >= mid:\n",
        "      break\n",
        "\n",
        "  width = 2*std/B\n",
        "  median = mean - std + width*(b + 0.5)\n",
        "  return median\n",
        "\n",
        " \n",
        "  # Run your functions with the first example in the question.\n",
        "  print(median_bins([1, 1, 3, 2, 2, 6], 3))\n",
        "  print(median_approx([1, 1, 3, 2, 2, 6], 3))\n",
        "\n",
        "  # Run your functions with the second example in the question.\n",
        "  print(median_bins([1, 5, 7, 7, 3, 6, 1, 1], 4))\n",
        "  print(median_approx([1, 5, 7, 7, 3, 6, 1, 1], 4))\n",
        " "
      ],
      "metadata": {
        "id": "aofCn7OoxcMn"
      },
      "execution_count": 20,
      "outputs": []
    }
  ]
}