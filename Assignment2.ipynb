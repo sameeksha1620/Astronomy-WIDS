{
  "nbformat": 4,
  "nbformat_minor": 0,
  "metadata": {
    "colab": {
      "name": "Assignment2.ipynb",
      "provenance": [],
      "collapsed_sections": []
    },
    "kernelspec": {
      "name": "python3",
      "display_name": "Python 3"
    },
    "language_info": {
      "name": "python"
    }
  },
  "cells": [
    {
      "cell_type": "markdown",
      "source": [
        "# **Assignment 2**"
      ],
      "metadata": {
        "id": "WU1GKinuTepd"
      }
    },
    {
      "cell_type": "code",
      "execution_count": null,
      "metadata": {
        "id": "9HuobbYzSztJ"
      },
      "outputs": [],
      "source": [
        "import numpy as np\n",
        "\n",
        "url = 'https://raw.githubusercontent.com/krittikaiitb/tutorials/master/Tutorial_02/Beehive_data.csv'\n",
        "data = np.loadtxt(url, delimiter=',')"
      ]
    },
    {
      "cell_type": "markdown",
      "source": [
        "#Finding distance considering only high probability stars"
      ],
      "metadata": {
        "id": "-0AA9N9RfF93"
      }
    },
    {
      "cell_type": "code",
      "source": [
        "indices = np.where(data[:, 2]>90) \n",
        "high_prob = data[indices]\n",
        "logd = (high_prob[:,0] + 2.5*high_prob[:,1] + 0.17)/5\n",
        "d = 10**logd"
      ],
      "metadata": {
        "id": "9PAk8RkhUkrF"
      },
      "execution_count": null,
      "outputs": []
    },
    {
      "cell_type": "code",
      "source": [
        "sum_of_dist = 0\n",
        "for i in d: \n",
        "    sum_of_dist = sum_of_dist + i\n",
        "dist_of_cluster= sum_of_dist/d.size \n",
        "print(dist_of_cluster)"
      ],
      "metadata": {
        "colab": {
          "base_uri": "https://localhost:8080/"
        },
        "id": "QfP05_0GelGc",
        "outputId": "042fd7f6-2b69-41fb-8312-1469333edb1c"
      },
      "execution_count": null,
      "outputs": [
        {
          "output_type": "stream",
          "name": "stdout",
          "text": [
            "159.9814397624894\n"
          ]
        }
      ]
    },
    {
      "cell_type": "markdown",
      "source": [
        "# Finding distance by taking average weighted by probabilities"
      ],
      "metadata": {
        "id": "hAsCaqmqfDmF"
      }
    },
    {
      "cell_type": "code",
      "source": [
        "logd_full = (beehive_data[:,0] + 2.5*beehive_data[:,1] + 0.17)/5 \n",
        "d_full = 10**logd_full"
      ],
      "metadata": {
        "id": "W8jRwRL2ewbZ"
      },
      "execution_count": null,
      "outputs": []
    },
    {
      "cell_type": "code",
      "source": [
        "weighted_dist = d_full * data[:,2] \n",
        "weighted_sum = 0\n",
        "sum_of_weights = 0\n",
        "for i in range(0, weighted_dist.size):\n",
        "    weighted_sum = weighted_sum + weighted_dist[i] \n",
        "    sum_of_weights = sum_of_weights + data[i,2] \n",
        "weighted_dist_of_cluster = weighted_sum/sum_of_weights \n",
        "print(weighted_dist_of_cluster)"
      ],
      "metadata": {
        "colab": {
          "base_uri": "https://localhost:8080/"
        },
        "id": "ajZTun7Ze1KV",
        "outputId": "9976e223-e6b0-4c7c-9c52-917f5cb0e52d"
      },
      "execution_count": null,
      "outputs": [
        {
          "output_type": "stream",
          "name": "stdout",
          "text": [
            "159.5464083490186\n"
          ]
        }
      ]
    }
  ]
}