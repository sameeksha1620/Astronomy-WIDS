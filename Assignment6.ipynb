{
  "nbformat": 4,
  "nbformat_minor": 0,
  "metadata": {
    "colab": {
      "name": "Assignment6.ipynb",
      "provenance": [],
      "collapsed_sections": []
    },
    "kernelspec": {
      "name": "python3",
      "display_name": "Python 3"
    },
    "language_info": {
      "name": "python"
    }
  },
  "cells": [
    {
      "cell_type": "markdown",
      "source": [
        "# **# Assignment 6**"
      ],
      "metadata": {
        "id": "Lqfjoi5e9i_q"
      }
    },
    {
      "cell_type": "code",
      "source": [
        "import requests\n",
        "from bs4 import BeautifulSoup\n",
        "import numpy as np\n",
        "import matplotlib.pyplot as plt"
      ],
      "metadata": {
        "id": "LTtGaogl-BSD"
      },
      "execution_count": null,
      "outputs": []
    },
    {
      "cell_type": "markdown",
      "source": [
        "# TASK1"
      ],
      "metadata": {
        "id": "Gjwco_E3BONT"
      }
    },
    {
      "cell_type": "code",
      "source": [
        "def get_coords(ra_s, dec_s):\n",
        "    h = float(ra_s[:2])\n",
        "    m = float(ra_s[3:5])\n",
        "    s = float(ra_s[6:-1])\n",
        "    ra = h + m/60 + s/3600\n",
        "    if dec_s[0] == '+':\n",
        "        sign = 1\n",
        "    else:\n",
        "        sign = -1\n",
        "    d = float(dec_s[1:3])\n",
        "    m = float(dec_s[4:6])\n",
        "    s = float(dec_s[7:-1])\n",
        "    dec = sign*(d + m/60 + s/3600)\n",
        "    return ra, dec"
      ],
      "metadata": {
        "id": "ctVgm-iz-E5I"
      },
      "execution_count": null,
      "outputs": []
    },
    {
      "cell_type": "code",
      "source": [
        "def get_map(constellation):        #the get_map() that skips stars\n",
        "    url = f'https://en.wikipedia.org/wiki/List_of_stars_in_{constellation}'\n",
        "    r = requests.get(url)\n",
        "\n",
        "    soup = BeautifulSoup(r.content, 'lxml')\n",
        "\n",
        "    tab = soup.find_all('table', attrs={'class':'wikitable sortable'})[0]\n",
        "\n",
        "    data = [[]]\n",
        "    for i in tab.find_all('tr'):\n",
        "        row = []\n",
        "        for j in i.find_all('td'):\n",
        "            row.append(j.get_text())\n",
        "        data.append(row)\n",
        "\n",
        "    heads = []\n",
        "    for i in tab.find_all('tr')[:1]:\n",
        "        for j in i.find_all('th'):\n",
        "            heads.append(j.get_text().strip('\\n'))\n",
        "\n",
        "    name_ind = heads.index('Name')\n",
        "    ra_ind = heads.index('RA')\n",
        "    dec_ind = heads.index('Dec')\n",
        "\n",
        "    mag_ind = heads.index('vis.mag.')\n",
        "\n",
        "    name = []\n",
        "    ra = []\n",
        "    dec = []\n",
        "    mag = []\n",
        "    for i in data[2:-2]:\n",
        "        name_string = i[name_ind]\n",
        "        try:\n",
        "            ra_string = i[ra_ind].replace('\\xa0', '')\n",
        "            dec_string = i[dec_ind].replace('\\xa0', '')\n",
        "            mag_string = i[mag_ind]\n",
        "            if mag_string[0]=='−':\n",
        "                mag_string = '-'+mag_string[1:]\n",
        "        except:\n",
        "            if verb:\n",
        "                print(f\"{name_string} has no data for coordinates\")\n",
        "            continue\n",
        "        try:\n",
        "            ra_i, dec_i = get_coords(ra_string, dec_string)\n",
        "        except:\n",
        "            if verb:\n",
        "                print(f\"{name_string} has coordinate format issues\")\n",
        "            continue\n",
        "        try:\n",
        "            mag.append(float(mag_string))\n",
        "            name.append(name_string)\n",
        "            ra.append(ra_i)\n",
        "            dec.append(dec_i)\n",
        "        except:\n",
        "            if verb:\n",
        "                print(f\"{name_string} does not have magnitude data\")\n",
        "            continue\n",
        "\n",
        "    name = np.array(name)\n",
        "    ra = np.array(ra)\n",
        "    dec = np.array(dec)\n",
        "    mag = np.array(mag)\n",
        "    return name, ra, dec, mag"
      ],
      "metadata": {
        "id": "8gnPHGv5-Qy4"
      },
      "execution_count": null,
      "outputs": []
    },
    {
      "cell_type": "code",
      "source": [
        "def get_map(constellation):           \n",
        "    url = f'https://en.wikipedia.org/wiki/List_of_stars_in_{constellation}'\n",
        "    r = requests.get(url)\n",
        "\n",
        "    soup = BeautifulSoup(r.content, 'lxml')\n",
        "\n",
        "    tab = soup.find_all('table', attrs={'class':'wikitable sortable'})[0]\n",
        "\n",
        "    data = [[]]\n",
        "    for i in tab.find_all('tr'):\n",
        "        row = []\n",
        "        for j in i.find_all('td'):\n",
        "            row.append(j.get_text())\n",
        "        data.append(row)\n",
        "\n",
        "    heads = []\n",
        "    for i in tab.find_all('tr')[:1]:\n",
        "        for j in i.find_all('th'):\n",
        "            heads.append(j.get_text().strip('\\n'))\n",
        "\n",
        "    name_ind = heads.index('Name')\n",
        "    ra_ind = heads.index('RA')\n",
        "    dec_ind = heads.index('Dec')\n",
        "\n",
        "    mag_ind = heads.index('vis.mag.')\n",
        "\n",
        "    name = []\n",
        "    ra = []\n",
        "    dec = []\n",
        "    mag = []\n",
        "    for i in data[2:-2]:\n",
        "        name_string = i[name_ind]\n",
        "        \n",
        "        if i[ra_ind] != '' and i[dec_ind] != '' and i[mag_ind] != '' and i[ra_ind] != ' ' and i[dec_ind] != ' ' and i[mag_ind] != ' ' and i[mag_ind][0] != 'n':\n",
        "            ra_string = i[ra_ind].replace('\\xa0', '')\n",
        "            dec_string = i[dec_ind].replace('\\xa0', '')\n",
        "            mag_string = i[mag_ind]\n",
        "            if mag_string[0]=='−':\n",
        "              mag_string = '-'+mag_string[1:]\n",
        "            if mag_string[0]=='~':\n",
        "                mag_string = mag_string[1:]\n",
        "            mag_str = mag_string[0]\n",
        "            for c in mag_string[1:]:\n",
        "                if ord(c) > 45 and ord(c) < 59:\n",
        "                    mag_str += c\n",
        "                else:\n",
        "                    break\n",
        "            i = mag_string.find('.')\n",
        "            mag_string = mag_string[:(i+3)]\n",
        "                                \n",
        "            ra_i, dec_i = get_coords(ra_string, dec_string)\n",
        "            mag.append(float(mag_str))\n",
        "            name.append(name_string)\n",
        "            ra.append(ra_i)\n",
        "            dec.append(dec_i)\n",
        "\n",
        "    name = np.array(name)\n",
        "    ra = np.array(ra)\n",
        "    dec = np.array(dec)\n",
        "    mag = np.array(mag)\n",
        "    return name, ra, dec, mag"
      ],
      "metadata": {
        "id": "5mId_GnT-uC5"
      },
      "execution_count": null,
      "outputs": []
    },
    {
      "cell_type": "code",
      "source": [
        "def project(ra, dec): # Stereographic Projection. \n",
        "    theta = np.deg2rad(90-dec + dec.mean())\n",
        "    phi = np.deg2rad((ra-ra.mean())*15)\n",
        "    x = np.sin(theta)*np.cos(phi)\n",
        "    y = np.sin(theta)*np.sin(phi)\n",
        "    z = np.cos(theta)\n",
        "    X = x/(1-z)\n",
        "    Y = y/(1-z)\n",
        "    return X,Y"
      ],
      "metadata": {
        "id": "3cG0eoJX_a0u"
      },
      "execution_count": null,
      "outputs": []
    },
    {
      "cell_type": "code",
      "source": [
        "def plot(constellation, return_data = False, orientation=0, norm=50, **kwargs):\n",
        "    name, ra, dec, mag = get_map(constellation)\n",
        "    x, y = project(ra, dec)\n",
        "    s = 10**(-mag/2.5)\n",
        "    if norm!=None:\n",
        "        s = s/s.max()*norm\n",
        "    if 'figure' not in kwargs:\n",
        "        plt.figure(figsize=(10,10))\n",
        "    plt.gca().set_facecolor('k')\n",
        "    if 'color' not in kwargs:\n",
        "        kwargs['color'] = 'w'\n",
        "    if orientation == 0:\n",
        "        plt.scatter(x, y, s=s, **kwargs)\n",
        "    elif orientation == 1:\n",
        "        plt.scatter(-y, x, s=s, **kwargs)\n",
        "    elif orientation == 2:\n",
        "        plt.scatter(-x, -y, s=s, **kwargs)\n",
        "    elif orientation == 3:\n",
        "        plt.scatter(y, -x, s=s, **kwargs)\n",
        "    plt.xticks([])\n",
        "    plt.yticks([])\n",
        "    if return_data:\n",
        "        return name, ra, dec, mag, s"
      ],
      "metadata": {
        "id": "xwnPdx76_eio"
      },
      "execution_count": null,
      "outputs": []
    },
    {
      "cell_type": "markdown",
      "source": [
        "# TASK 2"
      ],
      "metadata": {
        "id": "NTODSWIDDJRm"
      }
    },
    {
      "cell_type": "code",
      "source": [
        "page = requests.get(\"https://en.wikipedia.org/wiki/List_of_natural_satellites\")\n",
        "soup = BeautifulSoup(page.content, 'html.parser')"
      ],
      "metadata": {
        "id": "Q6UkEFAFE-EL"
      },
      "execution_count": null,
      "outputs": []
    },
    {
      "cell_type": "code",
      "source": [
        "table=soup.find_all('table',attrs={'class':'wikitable sortable'})[0]\n",
        "table"
      ],
      "metadata": {
        "id": "RnquCulBFAG0"
      },
      "execution_count": null,
      "outputs": []
    },
    {
      "cell_type": "code",
      "source": [
        " data = [[]]\n",
        " for i in table.find_all('tr'):  \n",
        "        row = []\n",
        "        for j in i.find_all('td'):  \n",
        "            row.append(j.get_text().replace(',',''))  \n",
        "        data.append(row)\n",
        "\n",
        " heads = []\n",
        " for i in table.find_all('tr')[:1]:\n",
        "        for j in i.find_all('th'):   \n",
        "            heads.append(j.get_text().strip('\\n'))"
      ],
      "metadata": {
        "id": "RClIQe5PFFkp"
      },
      "execution_count": null,
      "outputs": []
    },
    {
      "cell_type": "code",
      "source": [
        "final_data=[[]]\n",
        "for moon in data:\n",
        "    if moon!=[]:\n",
        "        final_data.append([moon[3],moon[1],moon[4]])\n",
        "\n",
        "final_data[0]=[\"Name of moon\",\"Name of planet\",\"Mean radius(km)\"]   \n",
        "final_data"
      ],
      "metadata": {
        "id": "UK9H9raMFdht"
      },
      "execution_count": null,
      "outputs": []
    },
    {
      "cell_type": "code",
      "source": [
        "for moon in final_data[1:-1]:\n",
        "    moon[2]=moon[2].split('±')[0] "
      ],
      "metadata": {
        "id": "Q_0UfBE-Fnw1"
      },
      "execution_count": null,
      "outputs": []
    },
    {
      "cell_type": "code",
      "source": [
        "final_data"
      ],
      "metadata": {
        "id": "woOEmzlzFtIY"
      },
      "execution_count": null,
      "outputs": []
    }
  ]
}